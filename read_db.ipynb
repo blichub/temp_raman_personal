{
 "cells": [
  {
   "cell_type": "code",
   "execution_count": 18,
   "id": "290c17a7",
   "metadata": {},
   "outputs": [
    {
     "name": "stdout",
     "output_type": "stream",
     "text": [
      "Pre-calculated peaks from reference_peaks table for ABS PLAS193:\n",
      "1. Wavenumber: 998.0, Intensity: 1.0\n",
      "2. Wavenumber: 2902.0, Intensity: 0.858586597298905\n",
      "3. Wavenumber: 3054.0, Intensity: 0.836264287310719\n",
      "4. Wavenumber: 2859.0, Intensity: 0.497860219358591\n",
      "5. Wavenumber: 2867.0, Intensity: 0.497160516550153\n",
      "6. Wavenumber: 2234.0, Intensity: 0.483970985120333\n",
      "7. Wavenumber: 1600.0, Intensity: 0.404905151641735\n",
      "8. Wavenumber: 1196.0, Intensity: 0.401864096299497\n",
      "9. Wavenumber: 1028.0, Intensity: 0.384372515443611\n",
      "10. Wavenumber: 1191.0, Intensity: 0.348961930602561\n",
      "\n",
      "Peaks calculated on-the-fly using process_spectrum for ABS PLAS193:\n",
      "1. Wavenumber: 625.0, Intensity: 0.251591532597052\n",
      "2. Wavenumber: 998.0, Intensity: 1.0\n",
      "3. Wavenumber: 1028.0, Intensity: 0.384372515443611\n",
      "4. Wavenumber: 1153.0, Intensity: 0.284146102347498\n",
      "5. Wavenumber: 1191.0, Intensity: 0.348961930602561\n",
      "6. Wavenumber: 1196.0, Intensity: 0.401864096299497\n",
      "7. Wavenumber: 1449.0, Intensity: 0.278488852792222\n",
      "8. Wavenumber: 1600.0, Intensity: 0.404905151641735\n",
      "9. Wavenumber: 1664.0, Intensity: 0.336800398755042\n",
      "10. Wavenumber: 2234.0, Intensity: 0.483970985120333\n",
      "\n",
      "Number of pre-calculated peaks: 12\n",
      "Number of calculated peaks: 16\n",
      "\n",
      "Number of matching wavenumbers: 12\n",
      "Percentage of matching peaks: 75.0%\n"
     ]
    }
   ],
   "source": [
    "# Test the get_peaks function\n",
    "import sys\n",
    "import os\n",
    "\n",
    "# Add the app directory to the path so we can import utils\n",
    "sys.path.append(os.path.abspath('.'))\n",
    "from app.utils import get_peaks, process_spectrum, get_spectrum_data\n",
    "\n",
    "# Choose a material ID to test with\n",
    "material_id = 'ABS PLAS193'\n",
    "\n",
    "# Test the get_peaks function\n",
    "pre_calculated_peaks = get_peaks(material_id)\n",
    "print(f\"Pre-calculated peaks from reference_peaks table for {material_id}:\")\n",
    "for i, (wavenumber, intensity) in enumerate(pre_calculated_peaks[:10], 1):\n",
    "    print(f\"{i}. Wavenumber: {wavenumber}, Intensity: {intensity}\")\n",
    "\n",
    "# Compare with process_spectrum\n",
    "intensities, wavelengths, _ = get_spectrum_data(material_id)\n",
    "calculated_peaks = process_spectrum(intensities, wavelengths)\n",
    "print(f\"\\nPeaks calculated on-the-fly using process_spectrum for {material_id}:\")\n",
    "for i, (wavenumber, intensity) in enumerate(calculated_peaks[:10], 1):\n",
    "    print(f\"{i}. Wavenumber: {wavenumber}, Intensity: {intensity}\")\n",
    "\n",
    "# Compare counts\n",
    "print(f\"\\nNumber of pre-calculated peaks: {len(pre_calculated_peaks)}\")\n",
    "print(f\"Number of calculated peaks: {len(calculated_peaks)}\")\n",
    "\n",
    "# Check if the wavenumbers match between the two approaches\n",
    "pre_calc_wavenumbers = {peak[0] for peak in pre_calculated_peaks}\n",
    "calc_wavenumbers = {peak[0] for peak in calculated_peaks}\n",
    "common_wavenumbers = pre_calc_wavenumbers.intersection(calc_wavenumbers)\n",
    "\n",
    "print(f\"\\nNumber of matching wavenumbers: {len(common_wavenumbers)}\")\n",
    "print(f\"Percentage of matching peaks: {len(common_wavenumbers)/max(len(pre_calc_wavenumbers), len(calc_wavenumbers))*100:.1f}%\")"
   ]
  },
  {
   "cell_type": "code",
   "execution_count": 19,
   "id": "80e9f112",
   "metadata": {},
   "outputs": [
    {
     "name": "stdout",
     "output_type": "stream",
     "text": [
      "Tables in the database:\n",
      "- microplastics\n",
      "- sample_bank\n",
      "- sqlite_sequence\n",
      "- reference_peaks\n",
      "\n",
      "Does reference_peaks table exist? True\n",
      "\n",
      "Columns in reference_peaks table:\n",
      "- id (INTEGER)\n",
      "- microplastic_id (INTEGER)\n",
      "- peak_rank (INTEGER)\n",
      "- wavenumber (REAL)\n",
      "- intensity (REAL)\n",
      "\n",
      "Sample data (first 5 rows):\n",
      "(1, 'ABS PLAS193', 1, 998.0, 1.0)\n",
      "(2, 'ABS PLAS193', 2, 2902.0, 0.858586597298905)\n",
      "(3, 'ABS PLAS193', 3, 3054.0, 0.836264287310719)\n",
      "(4, 'ABS PLAS193', 4, 2859.0, 0.497860219358591)\n",
      "(5, 'ABS PLAS193', 5, 2867.0, 0.497160516550153)\n"
     ]
    }
   ],
   "source": [
    "# Examine database structure to understand reference_peaks table\n",
    "import sqlite3\n",
    "import os\n",
    "\n",
    "db_file_path = 'app/database/microplastics_reference.db'\n",
    "\n",
    "conn = sqlite3.connect(db_file_path)\n",
    "cursor = conn.cursor()\n",
    "\n",
    "# Check all tables in the database\n",
    "cursor.execute(\"SELECT name FROM sqlite_master WHERE type='table'\")\n",
    "tables = cursor.fetchall()\n",
    "print(\"Tables in the database:\")\n",
    "for table in tables:\n",
    "    print(f\"- {table[0]}\")\n",
    "\n",
    "# Check if reference_peaks table exists\n",
    "reference_peaks_exists = any(table[0] == 'reference_peaks' for table in tables)\n",
    "print(f\"\\nDoes reference_peaks table exist? {reference_peaks_exists}\")\n",
    "\n",
    "# If reference_peaks exists, examine its structure\n",
    "if reference_peaks_exists:\n",
    "    cursor.execute(\"PRAGMA table_info(reference_peaks)\")\n",
    "    columns = cursor.fetchall()\n",
    "    print(\"\\nColumns in reference_peaks table:\")\n",
    "    for col in columns:\n",
    "        print(f\"- {col[1]} ({col[2]})\")\n",
    "    \n",
    "    # Get sample data from the table\n",
    "    cursor.execute(\"SELECT * FROM reference_peaks LIMIT 5\")\n",
    "    rows = cursor.fetchall()\n",
    "    print(f\"\\nSample data (first {len(rows)} rows):\")\n",
    "    for row in rows:\n",
    "        print(row)\n",
    "else:\n",
    "    print(\"\\nThe reference_peaks table does not exist. You need to create it first.\")\n",
    "    \n",
    "    # Let's check the microplastics table structure for reference\n",
    "    cursor.execute(\"PRAGMA table_info(microplastics)\")\n",
    "    columns = cursor.fetchall()\n",
    "    print(\"\\nColumns in microplastics table:\")\n",
    "    for col in columns:\n",
    "        print(f\"- {col[1]} ({col[2]})\")\n",
    "\n",
    "conn.close()"
   ]
  },
  {
   "cell_type": "code",
   "execution_count": 20,
   "id": "18164b9e",
   "metadata": {},
   "outputs": [],
   "source": [
    "# Standard libraries\n",
    "import numpy as np\n",
    "import pandas as pd\n",
    "import matplotlib.pyplot as plt\n",
    "import glob\n",
    "# import plotly.express as px\n",
    "import os\n",
    "import warnings\n",
    "\n",
    "# Local server SQL database\n",
    "import sqlite3 as sq\n",
    "\n",
    "# Setting of Large numbers format\n",
    "pd.options.display.float_format = '{:,.2f}'.format\n",
    "\n",
    "# Set data frame display max 10 rows\n",
    "pd.set_option('display.max_rows', 10)\n",
    "\n",
    "# Warning is suppressed\n",
    "warnings.simplefilter(action='ignore', category=FutureWarning)"
   ]
  },
  {
   "cell_type": "code",
   "execution_count": 21,
   "id": "c2e4ab47",
   "metadata": {},
   "outputs": [
    {
     "name": "stdout",
     "output_type": "stream",
     "text": [
      "Successfully connected to database: app\\database\\microplastics_reference.db\n"
     ]
    }
   ],
   "source": [
    "# Connect to the SQLite database\n",
    "db_path = os.path.join('app', 'database', 'microplastics_reference.db')\n",
    "conn = sq.connect(db_path)\n",
    "cursor = conn.cursor()\n",
    "\n",
    "print(f\"Successfully connected to database: {db_path}\")"
   ]
  },
  {
   "cell_type": "markdown",
   "id": "b7f94afa",
   "metadata": {},
   "source": [
    "# SQLite Database Exploration Tutorial\n",
    "\n",
    "This tutorial will guide you through exploring the `microplastics_reference.db` SQLite database. We'll cover:\n",
    "\n",
    "1. How to connect to an SQLite database\n",
    "2. How to list all tables in the database\n",
    "3. How to view table structure\n",
    "4. How to query data from tables\n",
    "5. How to visualize database content\n",
    "6. How to perform basic SQL operations"
   ]
  },
  {
   "cell_type": "markdown",
   "id": "0108f50a",
   "metadata": {},
   "source": [
    "## 1. Listing All Tables in the Database\n",
    "\n",
    "To explore a database, first we need to know what tables it contains. In SQLite, you can use the following query to list all tables:"
   ]
  },
  {
   "cell_type": "code",
   "execution_count": 22,
   "id": "f36b8461",
   "metadata": {},
   "outputs": [
    {
     "name": "stdout",
     "output_type": "stream",
     "text": [
      "Tables in the database:\n",
      "- microplastics\n",
      "- sample_bank\n",
      "- sqlite_sequence\n",
      "- reference_peaks\n"
     ]
    }
   ],
   "source": [
    "# Get list of all tables in the database\n",
    "cursor.execute(\"SELECT name FROM sqlite_master WHERE type='table';\")\n",
    "tables = cursor.fetchall()\n",
    "\n",
    "print(\"Tables in the database:\")\n",
    "for table in tables:\n",
    "    print(f\"- {table[0]}\")"
   ]
  },
  {
   "cell_type": "markdown",
   "id": "1231c1cb",
   "metadata": {},
   "source": [
    "## 2. Exploring Table Structure\n",
    "\n",
    "Once we know what tables exist in our database, we can examine their structure to understand what columns each table has. In SQLite, we can use the `PRAGMA table_info` command to get this information."
   ]
  },
  {
   "cell_type": "code",
   "execution_count": 23,
   "id": "b9e9fec2",
   "metadata": {},
   "outputs": [
    {
     "name": "stdout",
     "output_type": "stream",
     "text": [
      "\n",
      "Structure of table 'microplastics':\n"
     ]
    },
    {
     "data": {
      "application/vnd.microsoft.datawrangler.viewer.v0+json": {
       "columns": [
        {
         "name": "index",
         "rawType": "int64",
         "type": "integer"
        },
        {
         "name": "cid",
         "rawType": "int64",
         "type": "integer"
        },
        {
         "name": "name",
         "rawType": "object",
         "type": "string"
        },
        {
         "name": "type",
         "rawType": "object",
         "type": "string"
        },
        {
         "name": "notnull",
         "rawType": "int64",
         "type": "integer"
        },
        {
         "name": "default_value",
         "rawType": "object",
         "type": "unknown"
        },
        {
         "name": "pk",
         "rawType": "int64",
         "type": "integer"
        }
       ],
       "ref": "5431555d-d449-4f2f-acef-6def341407e0",
       "rows": [
        [
         "0",
         "0",
         "ID",
         "TEXT",
         "0",
         null,
         "0"
        ],
        [
         "1",
         "1",
         "Intensity",
         "REAL",
         "0",
         null,
         "0"
        ],
        [
         "2",
         "2",
         "WaveNumber",
         "REAL",
         "0",
         null,
         "0"
        ],
        [
         "3",
         "3",
         "Comment",
         "TEXT",
         "0",
         null,
         "0"
        ],
        [
         "4",
         "4",
         "Picture",
         "BLOB",
         "0",
         null,
         "0"
        ]
       ],
       "shape": {
        "columns": 6,
        "rows": 5
       }
      },
      "text/html": [
       "<div>\n",
       "<style scoped>\n",
       "    .dataframe tbody tr th:only-of-type {\n",
       "        vertical-align: middle;\n",
       "    }\n",
       "\n",
       "    .dataframe tbody tr th {\n",
       "        vertical-align: top;\n",
       "    }\n",
       "\n",
       "    .dataframe thead th {\n",
       "        text-align: right;\n",
       "    }\n",
       "</style>\n",
       "<table border=\"1\" class=\"dataframe\">\n",
       "  <thead>\n",
       "    <tr style=\"text-align: right;\">\n",
       "      <th></th>\n",
       "      <th>cid</th>\n",
       "      <th>name</th>\n",
       "      <th>type</th>\n",
       "      <th>notnull</th>\n",
       "      <th>default_value</th>\n",
       "      <th>pk</th>\n",
       "    </tr>\n",
       "  </thead>\n",
       "  <tbody>\n",
       "    <tr>\n",
       "      <th>0</th>\n",
       "      <td>0</td>\n",
       "      <td>ID</td>\n",
       "      <td>TEXT</td>\n",
       "      <td>0</td>\n",
       "      <td>None</td>\n",
       "      <td>0</td>\n",
       "    </tr>\n",
       "    <tr>\n",
       "      <th>1</th>\n",
       "      <td>1</td>\n",
       "      <td>Intensity</td>\n",
       "      <td>REAL</td>\n",
       "      <td>0</td>\n",
       "      <td>None</td>\n",
       "      <td>0</td>\n",
       "    </tr>\n",
       "    <tr>\n",
       "      <th>2</th>\n",
       "      <td>2</td>\n",
       "      <td>WaveNumber</td>\n",
       "      <td>REAL</td>\n",
       "      <td>0</td>\n",
       "      <td>None</td>\n",
       "      <td>0</td>\n",
       "    </tr>\n",
       "    <tr>\n",
       "      <th>3</th>\n",
       "      <td>3</td>\n",
       "      <td>Comment</td>\n",
       "      <td>TEXT</td>\n",
       "      <td>0</td>\n",
       "      <td>None</td>\n",
       "      <td>0</td>\n",
       "    </tr>\n",
       "    <tr>\n",
       "      <th>4</th>\n",
       "      <td>4</td>\n",
       "      <td>Picture</td>\n",
       "      <td>BLOB</td>\n",
       "      <td>0</td>\n",
       "      <td>None</td>\n",
       "      <td>0</td>\n",
       "    </tr>\n",
       "  </tbody>\n",
       "</table>\n",
       "</div>"
      ],
      "text/plain": [
       "   cid        name  type  notnull default_value  pk\n",
       "0    0          ID  TEXT        0          None   0\n",
       "1    1   Intensity  REAL        0          None   0\n",
       "2    2  WaveNumber  REAL        0          None   0\n",
       "3    3     Comment  TEXT        0          None   0\n",
       "4    4     Picture  BLOB        0          None   0"
      ]
     },
     "metadata": {},
     "output_type": "display_data"
    },
    {
     "name": "stdout",
     "output_type": "stream",
     "text": [
      "\n",
      "Structure of table 'sample_bank':\n"
     ]
    },
    {
     "data": {
      "application/vnd.microsoft.datawrangler.viewer.v0+json": {
       "columns": [
        {
         "name": "index",
         "rawType": "int64",
         "type": "integer"
        },
        {
         "name": "cid",
         "rawType": "int64",
         "type": "integer"
        },
        {
         "name": "name",
         "rawType": "object",
         "type": "string"
        },
        {
         "name": "type",
         "rawType": "object",
         "type": "string"
        },
        {
         "name": "notnull",
         "rawType": "int64",
         "type": "integer"
        },
        {
         "name": "default_value",
         "rawType": "object",
         "type": "unknown"
        },
        {
         "name": "pk",
         "rawType": "int64",
         "type": "integer"
        }
       ],
       "ref": "77f9093e-f819-459b-a74e-cf1d02554c47",
       "rows": [
        [
         "0",
         "0",
         "sample_id",
         "TEXT",
         "0",
         null,
         "0"
        ],
        [
         "1",
         "1",
         "intensity",
         "REAL",
         "0",
         null,
         "0"
        ],
        [
         "2",
         "2",
         "wave_number",
         "REAL",
         "0",
         null,
         "0"
        ],
        [
         "3",
         "3",
         "Comment",
         "TEXT",
         "0",
         null,
         "0"
        ],
        [
         "4",
         "4",
         "comparison_results",
         "TEXT",
         "0",
         null,
         "0"
        ],
        [
         "5",
         "5",
         "best_match",
         "TEXT",
         "0",
         null,
         "0"
        ],
        [
         "6",
         "6",
         "similarity_score",
         "TEXT",
         "0",
         null,
         "0"
        ]
       ],
       "shape": {
        "columns": 6,
        "rows": 7
       }
      },
      "text/html": [
       "<div>\n",
       "<style scoped>\n",
       "    .dataframe tbody tr th:only-of-type {\n",
       "        vertical-align: middle;\n",
       "    }\n",
       "\n",
       "    .dataframe tbody tr th {\n",
       "        vertical-align: top;\n",
       "    }\n",
       "\n",
       "    .dataframe thead th {\n",
       "        text-align: right;\n",
       "    }\n",
       "</style>\n",
       "<table border=\"1\" class=\"dataframe\">\n",
       "  <thead>\n",
       "    <tr style=\"text-align: right;\">\n",
       "      <th></th>\n",
       "      <th>cid</th>\n",
       "      <th>name</th>\n",
       "      <th>type</th>\n",
       "      <th>notnull</th>\n",
       "      <th>default_value</th>\n",
       "      <th>pk</th>\n",
       "    </tr>\n",
       "  </thead>\n",
       "  <tbody>\n",
       "    <tr>\n",
       "      <th>0</th>\n",
       "      <td>0</td>\n",
       "      <td>sample_id</td>\n",
       "      <td>TEXT</td>\n",
       "      <td>0</td>\n",
       "      <td>None</td>\n",
       "      <td>0</td>\n",
       "    </tr>\n",
       "    <tr>\n",
       "      <th>1</th>\n",
       "      <td>1</td>\n",
       "      <td>intensity</td>\n",
       "      <td>REAL</td>\n",
       "      <td>0</td>\n",
       "      <td>None</td>\n",
       "      <td>0</td>\n",
       "    </tr>\n",
       "    <tr>\n",
       "      <th>2</th>\n",
       "      <td>2</td>\n",
       "      <td>wave_number</td>\n",
       "      <td>REAL</td>\n",
       "      <td>0</td>\n",
       "      <td>None</td>\n",
       "      <td>0</td>\n",
       "    </tr>\n",
       "    <tr>\n",
       "      <th>3</th>\n",
       "      <td>3</td>\n",
       "      <td>Comment</td>\n",
       "      <td>TEXT</td>\n",
       "      <td>0</td>\n",
       "      <td>None</td>\n",
       "      <td>0</td>\n",
       "    </tr>\n",
       "    <tr>\n",
       "      <th>4</th>\n",
       "      <td>4</td>\n",
       "      <td>comparison_results</td>\n",
       "      <td>TEXT</td>\n",
       "      <td>0</td>\n",
       "      <td>None</td>\n",
       "      <td>0</td>\n",
       "    </tr>\n",
       "    <tr>\n",
       "      <th>5</th>\n",
       "      <td>5</td>\n",
       "      <td>best_match</td>\n",
       "      <td>TEXT</td>\n",
       "      <td>0</td>\n",
       "      <td>None</td>\n",
       "      <td>0</td>\n",
       "    </tr>\n",
       "    <tr>\n",
       "      <th>6</th>\n",
       "      <td>6</td>\n",
       "      <td>similarity_score</td>\n",
       "      <td>TEXT</td>\n",
       "      <td>0</td>\n",
       "      <td>None</td>\n",
       "      <td>0</td>\n",
       "    </tr>\n",
       "  </tbody>\n",
       "</table>\n",
       "</div>"
      ],
      "text/plain": [
       "   cid                name  type  notnull default_value  pk\n",
       "0    0           sample_id  TEXT        0          None   0\n",
       "1    1           intensity  REAL        0          None   0\n",
       "2    2         wave_number  REAL        0          None   0\n",
       "3    3             Comment  TEXT        0          None   0\n",
       "4    4  comparison_results  TEXT        0          None   0\n",
       "5    5          best_match  TEXT        0          None   0\n",
       "6    6    similarity_score  TEXT        0          None   0"
      ]
     },
     "metadata": {},
     "output_type": "display_data"
    },
    {
     "name": "stdout",
     "output_type": "stream",
     "text": [
      "\n",
      "Structure of table 'sqlite_sequence':\n"
     ]
    },
    {
     "data": {
      "application/vnd.microsoft.datawrangler.viewer.v0+json": {
       "columns": [
        {
         "name": "index",
         "rawType": "int64",
         "type": "integer"
        },
        {
         "name": "cid",
         "rawType": "int64",
         "type": "integer"
        },
        {
         "name": "name",
         "rawType": "object",
         "type": "string"
        },
        {
         "name": "type",
         "rawType": "object",
         "type": "string"
        },
        {
         "name": "notnull",
         "rawType": "int64",
         "type": "integer"
        },
        {
         "name": "default_value",
         "rawType": "object",
         "type": "unknown"
        },
        {
         "name": "pk",
         "rawType": "int64",
         "type": "integer"
        }
       ],
       "ref": "4f32f42c-f555-4f22-a666-8a60fd43e404",
       "rows": [
        [
         "0",
         "0",
         "name",
         "",
         "0",
         null,
         "0"
        ],
        [
         "1",
         "1",
         "seq",
         "",
         "0",
         null,
         "0"
        ]
       ],
       "shape": {
        "columns": 6,
        "rows": 2
       }
      },
      "text/html": [
       "<div>\n",
       "<style scoped>\n",
       "    .dataframe tbody tr th:only-of-type {\n",
       "        vertical-align: middle;\n",
       "    }\n",
       "\n",
       "    .dataframe tbody tr th {\n",
       "        vertical-align: top;\n",
       "    }\n",
       "\n",
       "    .dataframe thead th {\n",
       "        text-align: right;\n",
       "    }\n",
       "</style>\n",
       "<table border=\"1\" class=\"dataframe\">\n",
       "  <thead>\n",
       "    <tr style=\"text-align: right;\">\n",
       "      <th></th>\n",
       "      <th>cid</th>\n",
       "      <th>name</th>\n",
       "      <th>type</th>\n",
       "      <th>notnull</th>\n",
       "      <th>default_value</th>\n",
       "      <th>pk</th>\n",
       "    </tr>\n",
       "  </thead>\n",
       "  <tbody>\n",
       "    <tr>\n",
       "      <th>0</th>\n",
       "      <td>0</td>\n",
       "      <td>name</td>\n",
       "      <td></td>\n",
       "      <td>0</td>\n",
       "      <td>None</td>\n",
       "      <td>0</td>\n",
       "    </tr>\n",
       "    <tr>\n",
       "      <th>1</th>\n",
       "      <td>1</td>\n",
       "      <td>seq</td>\n",
       "      <td></td>\n",
       "      <td>0</td>\n",
       "      <td>None</td>\n",
       "      <td>0</td>\n",
       "    </tr>\n",
       "  </tbody>\n",
       "</table>\n",
       "</div>"
      ],
      "text/plain": [
       "   cid  name type  notnull default_value  pk\n",
       "0    0  name             0          None   0\n",
       "1    1   seq             0          None   0"
      ]
     },
     "metadata": {},
     "output_type": "display_data"
    },
    {
     "name": "stdout",
     "output_type": "stream",
     "text": [
      "\n",
      "Structure of table 'reference_peaks':\n"
     ]
    },
    {
     "data": {
      "application/vnd.microsoft.datawrangler.viewer.v0+json": {
       "columns": [
        {
         "name": "index",
         "rawType": "int64",
         "type": "integer"
        },
        {
         "name": "cid",
         "rawType": "int64",
         "type": "integer"
        },
        {
         "name": "name",
         "rawType": "object",
         "type": "string"
        },
        {
         "name": "type",
         "rawType": "object",
         "type": "string"
        },
        {
         "name": "notnull",
         "rawType": "int64",
         "type": "integer"
        },
        {
         "name": "default_value",
         "rawType": "object",
         "type": "unknown"
        },
        {
         "name": "pk",
         "rawType": "int64",
         "type": "integer"
        }
       ],
       "ref": "f75c2edd-641f-41d8-8365-ecb47f829298",
       "rows": [
        [
         "0",
         "0",
         "id",
         "INTEGER",
         "0",
         null,
         "1"
        ],
        [
         "1",
         "1",
         "microplastic_id",
         "INTEGER",
         "0",
         null,
         "0"
        ],
        [
         "2",
         "2",
         "peak_rank",
         "INTEGER",
         "0",
         null,
         "0"
        ],
        [
         "3",
         "3",
         "wavenumber",
         "REAL",
         "0",
         null,
         "0"
        ],
        [
         "4",
         "4",
         "intensity",
         "REAL",
         "0",
         null,
         "0"
        ]
       ],
       "shape": {
        "columns": 6,
        "rows": 5
       }
      },
      "text/html": [
       "<div>\n",
       "<style scoped>\n",
       "    .dataframe tbody tr th:only-of-type {\n",
       "        vertical-align: middle;\n",
       "    }\n",
       "\n",
       "    .dataframe tbody tr th {\n",
       "        vertical-align: top;\n",
       "    }\n",
       "\n",
       "    .dataframe thead th {\n",
       "        text-align: right;\n",
       "    }\n",
       "</style>\n",
       "<table border=\"1\" class=\"dataframe\">\n",
       "  <thead>\n",
       "    <tr style=\"text-align: right;\">\n",
       "      <th></th>\n",
       "      <th>cid</th>\n",
       "      <th>name</th>\n",
       "      <th>type</th>\n",
       "      <th>notnull</th>\n",
       "      <th>default_value</th>\n",
       "      <th>pk</th>\n",
       "    </tr>\n",
       "  </thead>\n",
       "  <tbody>\n",
       "    <tr>\n",
       "      <th>0</th>\n",
       "      <td>0</td>\n",
       "      <td>id</td>\n",
       "      <td>INTEGER</td>\n",
       "      <td>0</td>\n",
       "      <td>None</td>\n",
       "      <td>1</td>\n",
       "    </tr>\n",
       "    <tr>\n",
       "      <th>1</th>\n",
       "      <td>1</td>\n",
       "      <td>microplastic_id</td>\n",
       "      <td>INTEGER</td>\n",
       "      <td>0</td>\n",
       "      <td>None</td>\n",
       "      <td>0</td>\n",
       "    </tr>\n",
       "    <tr>\n",
       "      <th>2</th>\n",
       "      <td>2</td>\n",
       "      <td>peak_rank</td>\n",
       "      <td>INTEGER</td>\n",
       "      <td>0</td>\n",
       "      <td>None</td>\n",
       "      <td>0</td>\n",
       "    </tr>\n",
       "    <tr>\n",
       "      <th>3</th>\n",
       "      <td>3</td>\n",
       "      <td>wavenumber</td>\n",
       "      <td>REAL</td>\n",
       "      <td>0</td>\n",
       "      <td>None</td>\n",
       "      <td>0</td>\n",
       "    </tr>\n",
       "    <tr>\n",
       "      <th>4</th>\n",
       "      <td>4</td>\n",
       "      <td>intensity</td>\n",
       "      <td>REAL</td>\n",
       "      <td>0</td>\n",
       "      <td>None</td>\n",
       "      <td>0</td>\n",
       "    </tr>\n",
       "  </tbody>\n",
       "</table>\n",
       "</div>"
      ],
      "text/plain": [
       "   cid             name     type  notnull default_value  pk\n",
       "0    0               id  INTEGER        0          None   1\n",
       "1    1  microplastic_id  INTEGER        0          None   0\n",
       "2    2        peak_rank  INTEGER        0          None   0\n",
       "3    3       wavenumber     REAL        0          None   0\n",
       "4    4        intensity     REAL        0          None   0"
      ]
     },
     "metadata": {},
     "output_type": "display_data"
    }
   ],
   "source": [
    "# Function to get table structure\n",
    "def get_table_info(table_name):\n",
    "    cursor.execute(f\"PRAGMA table_info({table_name})\")\n",
    "    columns = cursor.fetchall()\n",
    "    \n",
    "    # Create a DataFrame to display the table structure in a nice format\n",
    "    table_info = pd.DataFrame(columns, \n",
    "                             columns=['cid', 'name', 'type', 'notnull', 'default_value', 'pk'])\n",
    "    return table_info\n",
    "\n",
    "# Let's examine the structure of each table\n",
    "for table in tables:\n",
    "    table_name = table[0]\n",
    "    print(f\"\\nStructure of table '{table_name}':\")\n",
    "    table_info = get_table_info(table_name)\n",
    "    display(table_info)"
   ]
  },
  {
   "cell_type": "markdown",
   "id": "a9567ce0",
   "metadata": {},
   "source": [
    "## 3. Viewing Table Data\n",
    "\n",
    "Now that we know the structure of our tables, let's view some actual data to better understand what's stored in each table."
   ]
  },
  {
   "cell_type": "code",
   "execution_count": 24,
   "id": "d31b6cb8",
   "metadata": {},
   "outputs": [
    {
     "name": "stdout",
     "output_type": "stream",
     "text": [
      "\n",
      "Preview of table 'microplastics':\n"
     ]
    },
    {
     "data": {
      "application/vnd.microsoft.datawrangler.viewer.v0+json": {
       "columns": [
        {
         "name": "index",
         "rawType": "int64",
         "type": "integer"
        },
        {
         "name": "ID",
         "rawType": "object",
         "type": "string"
        },
        {
         "name": "Intensity",
         "rawType": "float64",
         "type": "float"
        },
        {
         "name": "WaveNumber",
         "rawType": "float64",
         "type": "float"
        },
        {
         "name": "Comment",
         "rawType": "object",
         "type": "unknown"
        },
        {
         "name": "Picture",
         "rawType": "object",
         "type": "unknown"
        }
       ],
       "ref": "1ea0b634-2de3-46b6-8099-72f373da67c8",
       "rows": [
        [
         "0",
         "ABS PLAS193",
         "0.0986573092768163",
         "200.0",
         "Test comment ABS PLAS193",
         null
        ],
        [
         "1",
         "ABS PLAS193",
         "0.0987610583894631",
         "201.0",
         "Test comment ABS PLAS193",
         null
        ],
        [
         "2",
         "ABS PLAS193",
         "0.0952941966482868",
         "202.0",
         "Test comment ABS PLAS193",
         null
        ],
        [
         "3",
         "ABS PLAS193",
         "0.0953981659302437",
         "203.0",
         "Test comment ABS PLAS193",
         null
        ],
        [
         "4",
         "ABS PLAS193",
         "0.0990729631255778",
         "204.0",
         "Test comment ABS PLAS193",
         null
        ],
        [
         "5",
         "ABS PLAS193",
         "0.100169007499086",
         "205.0",
         "Test comment ABS PLAS193",
         null
        ],
        [
         "6",
         "ABS PLAS193",
         "0.106819608332827",
         "206.0",
         "Test comment ABS PLAS193",
         null
        ],
        [
         "7",
         "ABS PLAS193",
         "0.106923980752901",
         "207.0",
         "Test comment ABS PLAS193",
         null
        ],
        [
         "8",
         "ABS PLAS193",
         "0.108615434070385",
         "208.0",
         "Test comment ABS PLAS193",
         null
        ],
        [
         "9",
         "ABS PLAS193",
         "0.113282579553988",
         "209.0",
         "Test comment ABS PLAS193",
         null
        ],
        [
         "10",
         "ABS PLAS193",
         "0.12489288362621",
         "210.0",
         "Test comment ABS PLAS193",
         null
        ],
        [
         "11",
         "ABS PLAS193",
         "0.125989477719892",
         "211.0",
         "Test comment ABS PLAS193",
         null
        ],
        [
         "12",
         "ABS PLAS193",
         "0.126094285509535",
         "212.0",
         "Test comment ABS PLAS193",
         null
        ],
        [
         "13",
         "ABS PLAS193",
         "0.12619917137679",
         "213.0",
         "Test comment ABS PLAS193",
         null
        ],
        [
         "14",
         "ABS PLAS193",
         "0.126304132356279",
         "214.0",
         "Test comment ABS PLAS193",
         null
        ],
        [
         "15",
         "ABS PLAS193",
         "0.126012418552348",
         "215.0",
         "Test comment ABS PLAS193",
         null
        ],
        [
         "16",
         "ABS PLAS193",
         "0.125522400500322",
         "216.0",
         "Test comment ABS PLAS193",
         null
        ],
        [
         "17",
         "ABS PLAS193",
         "0.125627569166474",
         "217.0",
         "Test comment ABS PLAS193",
         null
        ],
        [
         "18",
         "ABS PLAS193",
         "0.125336054280869",
         "218.0",
         "Test comment ABS PLAS193",
         null
        ],
        [
         "19",
         "ABS PLAS193",
         "0.125441346838008",
         "219.0",
         "Test comment ABS PLAS193",
         null
        ],
        [
         "20",
         "ABS PLAS193",
         "0.125546697012888",
         "220.0",
         "Test comment ABS PLAS193",
         null
        ],
        [
         "21",
         "ABS PLAS193",
         "0.125652101939054",
         "221.0",
         "Test comment ABS PLAS193",
         null
        ],
        [
         "22",
         "ABS PLAS193",
         "0.124567317930477",
         "222.0",
         "Test comment ABS PLAS193",
         null
        ],
        [
         "23",
         "ABS PLAS193",
         "0.122689089093161",
         "223.0",
         "Test comment ABS PLAS193",
         null
        ],
        [
         "24",
         "ABS PLAS193",
         "0.122794641214142",
         "224.0",
         "Test comment ABS PLAS193",
         null
        ],
        [
         "25",
         "ABS PLAS193",
         "0.122900236760102",
         "225.0",
         "Test comment ABS PLAS193",
         null
        ],
        [
         "26",
         "ABS PLAS193",
         "0.123005872934172",
         "226.0",
         "Test comment ABS PLAS193",
         null
        ],
        [
         "27",
         "ABS PLAS193",
         "0.121722932647468",
         "227.0",
         "Test comment ABS PLAS193",
         null
        ],
        [
         "28",
         "ABS PLAS193",
         "0.12044002743652",
         "228.0",
         "Test comment ABS PLAS193",
         null
        ],
        [
         "29",
         "ABS PLAS193",
         "0.118363660656744",
         "229.0",
         "Test comment ABS PLAS193",
         null
        ],
        [
         "30",
         "ABS PLAS193",
         "0.11727919081663",
         "230.0",
         "Test comment ABS PLAS193",
         null
        ],
        [
         "31",
         "ABS PLAS193",
         "0.114012639631848",
         "231.0",
         "Test comment ABS PLAS193",
         null
        ],
        [
         "32",
         "ABS PLAS193",
         "0.114118461611132",
         "232.0",
         "Test comment ABS PLAS193",
         null
        ],
        [
         "33",
         "ABS PLAS193",
         "0.111050329468965",
         "233.0",
         "Test comment ABS PLAS193",
         null
        ],
        [
         "34",
         "ABS PLAS193",
         "0.110561071213501",
         "234.0",
         "Test comment ABS PLAS193",
         null
        ],
        [
         "35",
         "ABS PLAS193",
         "0.109079961670216",
         "235.0",
         "Test comment ABS PLAS193",
         null
        ],
        [
         "36",
         "ABS PLAS193",
         "0.10065579401096",
         "236.0",
         "Test comment ABS PLAS193",
         null
        ],
        [
         "37",
         "ABS PLAS193",
         "0.100761696425093",
         "237.0",
         "Test comment ABS PLAS193",
         null
        ],
        [
         "38",
         "ABS PLAS193",
         "0.100867606971971",
         "238.0",
         "Test comment ABS PLAS193",
         null
        ],
        [
         "39",
         "ABS PLAS193",
         "0.10097352303151",
         "239.0",
         "Test comment ABS PLAS193",
         null
        ],
        [
         "40",
         "ABS PLAS193",
         "0.101079441996978",
         "240.0",
         "Test comment ABS PLAS193",
         null
        ],
        [
         "41",
         "ABS PLAS193",
         "0.101185361274961",
         "241.0",
         "Test comment ABS PLAS193",
         null
        ],
        [
         "42",
         "ABS PLAS193",
         "0.101291278285334",
         "242.0",
         "Test comment ABS PLAS193",
         null
        ],
        [
         "43",
         "ABS PLAS193",
         "0.101397190461216",
         "243.0",
         "Test comment ABS PLAS193",
         null
        ],
        [
         "44",
         "ABS PLAS193",
         "0.103486829971543",
         "244.0",
         "Test comment ABS PLAS193",
         null
        ],
        [
         "45",
         "ABS PLAS193",
         "0.108948808581649",
         "245.0",
         "Test comment ABS PLAS193",
         null
        ],
        [
         "46",
         "ABS PLAS193",
         "0.109054690984774",
         "246.0",
         "Test comment ABS PLAS193",
         null
        ],
        [
         "47",
         "ABS PLAS193",
         "0.109160558417704",
         "247.0",
         "Test comment ABS PLAS193",
         null
        ],
        [
         "48",
         "ABS PLAS193",
         "0.109266408379295",
         "248.0",
         "Test comment ABS PLAS193",
         null
        ],
        [
         "49",
         "ABS PLAS193",
         "0.109967358798221",
         "249.0",
         "Test comment ABS PLAS193",
         null
        ]
       ],
       "shape": {
        "columns": 5,
        "rows": 3400
       }
      },
      "text/html": [
       "<div>\n",
       "<style scoped>\n",
       "    .dataframe tbody tr th:only-of-type {\n",
       "        vertical-align: middle;\n",
       "    }\n",
       "\n",
       "    .dataframe tbody tr th {\n",
       "        vertical-align: top;\n",
       "    }\n",
       "\n",
       "    .dataframe thead th {\n",
       "        text-align: right;\n",
       "    }\n",
       "</style>\n",
       "<table border=\"1\" class=\"dataframe\">\n",
       "  <thead>\n",
       "    <tr style=\"text-align: right;\">\n",
       "      <th></th>\n",
       "      <th>ID</th>\n",
       "      <th>Intensity</th>\n",
       "      <th>WaveNumber</th>\n",
       "      <th>Comment</th>\n",
       "      <th>Picture</th>\n",
       "    </tr>\n",
       "  </thead>\n",
       "  <tbody>\n",
       "    <tr>\n",
       "      <th>0</th>\n",
       "      <td>ABS PLAS193</td>\n",
       "      <td>0.10</td>\n",
       "      <td>200.00</td>\n",
       "      <td>Test comment ABS PLAS193</td>\n",
       "      <td>None</td>\n",
       "    </tr>\n",
       "    <tr>\n",
       "      <th>1</th>\n",
       "      <td>ABS PLAS193</td>\n",
       "      <td>0.10</td>\n",
       "      <td>201.00</td>\n",
       "      <td>Test comment ABS PLAS193</td>\n",
       "      <td>None</td>\n",
       "    </tr>\n",
       "    <tr>\n",
       "      <th>2</th>\n",
       "      <td>ABS PLAS193</td>\n",
       "      <td>0.10</td>\n",
       "      <td>202.00</td>\n",
       "      <td>Test comment ABS PLAS193</td>\n",
       "      <td>None</td>\n",
       "    </tr>\n",
       "    <tr>\n",
       "      <th>3</th>\n",
       "      <td>ABS PLAS193</td>\n",
       "      <td>0.10</td>\n",
       "      <td>203.00</td>\n",
       "      <td>Test comment ABS PLAS193</td>\n",
       "      <td>None</td>\n",
       "    </tr>\n",
       "    <tr>\n",
       "      <th>4</th>\n",
       "      <td>ABS PLAS193</td>\n",
       "      <td>0.10</td>\n",
       "      <td>204.00</td>\n",
       "      <td>Test comment ABS PLAS193</td>\n",
       "      <td>None</td>\n",
       "    </tr>\n",
       "    <tr>\n",
       "      <th>...</th>\n",
       "      <td>...</td>\n",
       "      <td>...</td>\n",
       "      <td>...</td>\n",
       "      <td>...</td>\n",
       "      <td>...</td>\n",
       "    </tr>\n",
       "    <tr>\n",
       "      <th>3395</th>\n",
       "      <td>beachcast white foam sheet PLAS251</td>\n",
       "      <td>0.04</td>\n",
       "      <td>394.00</td>\n",
       "      <td>None</td>\n",
       "      <td>None</td>\n",
       "    </tr>\n",
       "    <tr>\n",
       "      <th>3396</th>\n",
       "      <td>beachcast white foam sheet PLAS251</td>\n",
       "      <td>0.04</td>\n",
       "      <td>395.00</td>\n",
       "      <td>None</td>\n",
       "      <td>None</td>\n",
       "    </tr>\n",
       "    <tr>\n",
       "      <th>3397</th>\n",
       "      <td>beachcast white foam sheet PLAS251</td>\n",
       "      <td>0.04</td>\n",
       "      <td>396.00</td>\n",
       "      <td>None</td>\n",
       "      <td>None</td>\n",
       "    </tr>\n",
       "    <tr>\n",
       "      <th>3398</th>\n",
       "      <td>beachcast white foam sheet PLAS251</td>\n",
       "      <td>0.05</td>\n",
       "      <td>397.00</td>\n",
       "      <td>None</td>\n",
       "      <td>None</td>\n",
       "    </tr>\n",
       "    <tr>\n",
       "      <th>3399</th>\n",
       "      <td>beachcast white foam sheet PLAS251</td>\n",
       "      <td>0.05</td>\n",
       "      <td>398.00</td>\n",
       "      <td>None</td>\n",
       "      <td>None</td>\n",
       "    </tr>\n",
       "  </tbody>\n",
       "</table>\n",
       "<p>3400 rows × 5 columns</p>\n",
       "</div>"
      ],
      "text/plain": [
       "                                      ID  Intensity  WaveNumber  \\\n",
       "0                            ABS PLAS193       0.10      200.00   \n",
       "1                            ABS PLAS193       0.10      201.00   \n",
       "2                            ABS PLAS193       0.10      202.00   \n",
       "3                            ABS PLAS193       0.10      203.00   \n",
       "4                            ABS PLAS193       0.10      204.00   \n",
       "...                                  ...        ...         ...   \n",
       "3395  beachcast white foam sheet PLAS251       0.04      394.00   \n",
       "3396  beachcast white foam sheet PLAS251       0.04      395.00   \n",
       "3397  beachcast white foam sheet PLAS251       0.04      396.00   \n",
       "3398  beachcast white foam sheet PLAS251       0.05      397.00   \n",
       "3399  beachcast white foam sheet PLAS251       0.05      398.00   \n",
       "\n",
       "                       Comment Picture  \n",
       "0     Test comment ABS PLAS193    None  \n",
       "1     Test comment ABS PLAS193    None  \n",
       "2     Test comment ABS PLAS193    None  \n",
       "3     Test comment ABS PLAS193    None  \n",
       "4     Test comment ABS PLAS193    None  \n",
       "...                        ...     ...  \n",
       "3395                      None    None  \n",
       "3396                      None    None  \n",
       "3397                      None    None  \n",
       "3398                      None    None  \n",
       "3399                      None    None  \n",
       "\n",
       "[3400 rows x 5 columns]"
      ]
     },
     "metadata": {},
     "output_type": "display_data"
    },
    {
     "name": "stdout",
     "output_type": "stream",
     "text": [
      "Total rows in microplastics: 539751\n",
      "\n",
      "Preview of table 'sample_bank':\n"
     ]
    },
    {
     "data": {
      "application/vnd.microsoft.datawrangler.viewer.v0+json": {
       "columns": [
        {
         "name": "index",
         "rawType": "int64",
         "type": "integer"
        },
        {
         "name": "sample_id",
         "rawType": "object",
         "type": "string"
        },
        {
         "name": "intensity",
         "rawType": "float64",
         "type": "float"
        },
        {
         "name": "wave_number",
         "rawType": "float64",
         "type": "float"
        },
        {
         "name": "Comment",
         "rawType": "object",
         "type": "unknown"
        },
        {
         "name": "comparison_results",
         "rawType": "object",
         "type": "unknown"
        },
        {
         "name": "best_match",
         "rawType": "object",
         "type": "string"
        },
        {
         "name": "similarity_score",
         "rawType": "object",
         "type": "string"
        }
       ],
       "ref": "2b7b3e1d-ea4c-464d-85c5-a3250b69818f",
       "rows": [
        [
         "0",
         "PP",
         "0.07124573378839591",
         "233.38236",
         null,
         null,
         "chitin BIOL022",
         "chitin BIOL022"
        ],
        [
         "1",
         "PP",
         "0.08319112627986348",
         "238.69725",
         null,
         null,
         "chitin BIOL022",
         "chitin BIOL022"
        ],
        [
         "2",
         "PP",
         "0.042662116040955635",
         "244.00763",
         null,
         null,
         "chitin BIOL022",
         "chitin BIOL022"
        ],
        [
         "3",
         "PP",
         "0.0",
         "249.31349",
         null,
         null,
         "chitin BIOL022",
         "chitin BIOL022"
        ],
        [
         "4",
         "PP",
         "0.041808873720136516",
         "254.61485",
         null,
         null,
         "chitin BIOL022",
         "chitin BIOL022"
        ],
        [
         "5",
         "PP",
         "0.025170648464163822",
         "259.91172",
         null,
         null,
         "chitin BIOL022",
         "chitin BIOL022"
        ],
        [
         "6",
         "PP",
         "0.04138225255972696",
         "265.35968",
         null,
         null,
         "chitin BIOL022",
         "chitin BIOL022"
        ],
        [
         "7",
         "PP",
         "0.10068259385665529",
         "270.64743",
         null,
         null,
         "chitin BIOL022",
         "chitin BIOL022"
        ],
        [
         "8",
         "PP",
         "0.03967576791808874",
         "275.9307",
         null,
         null,
         "chitin BIOL022",
         "chitin BIOL022"
        ],
        [
         "9",
         "PP",
         "0.14334470989761092",
         "281.20949",
         null,
         null,
         "chitin BIOL022",
         "chitin BIOL022"
        ],
        [
         "10",
         "PP",
         "0.11390784982935154",
         "286.48382",
         null,
         null,
         "chitin BIOL022",
         "chitin BIOL022"
        ],
        [
         "11",
         "PP",
         "0.08532423208191127",
         "291.75368",
         null,
         null,
         "chitin BIOL022",
         "chitin BIOL022"
        ],
        [
         "12",
         "PP",
         "0.11092150170648464",
         "297.01908",
         null,
         null,
         "chitin BIOL022",
         "chitin BIOL022"
        ],
        [
         "13",
         "PP",
         "0.07892491467576791",
         "302.28003",
         null,
         null,
         "chitin BIOL022",
         "chitin BIOL022"
        ],
        [
         "14",
         "PP",
         "0.12713310580204779",
         "307.53653",
         null,
         null,
         "chitin BIOL022",
         "chitin BIOL022"
        ],
        [
         "15",
         "PP",
         "0.11732081911262798",
         "312.78859",
         null,
         null,
         "chitin BIOL022",
         "chitin BIOL022"
        ],
        [
         "16",
         "PP",
         "0.06697952218430034",
         "318.19049",
         null,
         null,
         "chitin BIOL022",
         "chitin BIOL022"
        ],
        [
         "17",
         "PP",
         "0.06484641638225255",
         "323.43355",
         null,
         null,
         "chitin BIOL022",
         "chitin BIOL022"
        ],
        [
         "18",
         "PP",
         "0.08575085324232082",
         "328.67219",
         null,
         null,
         "chitin BIOL022",
         "chitin BIOL022"
        ],
        [
         "19",
         "PP",
         "0.05674061433447099",
         "333.90641",
         null,
         null,
         "chitin BIOL022",
         "chitin BIOL022"
        ],
        [
         "20",
         "PP",
         "0.1582764505119454",
         "339.13622",
         null,
         null,
         "chitin BIOL022",
         "chitin BIOL022"
        ],
        [
         "21",
         "PP",
         "0.17918088737201365",
         "344.36162",
         null,
         null,
         "chitin BIOL022",
         "chitin BIOL022"
        ],
        [
         "22",
         "PP",
         "0.31569965870307165",
         "349.58261",
         null,
         null,
         "chitin BIOL022",
         "chitin BIOL022"
        ],
        [
         "23",
         "PP",
         "0.34215017064846415",
         "354.79921",
         null,
         null,
         "chitin BIOL022",
         "chitin BIOL022"
        ],
        [
         "24",
         "PP",
         "0.3272184300341297",
         "360.16465",
         null,
         null,
         "chitin BIOL022",
         "chitin BIOL022"
        ],
        [
         "25",
         "PP",
         "0.37329351535836175",
         "365.37235",
         null,
         null,
         "chitin BIOL022",
         "chitin BIOL022"
        ],
        [
         "26",
         "PP",
         "0.32593856655290104",
         "370.57566",
         null,
         null,
         "chitin BIOL022",
         "chitin BIOL022"
        ],
        [
         "27",
         "PP",
         "0.28924914675767915",
         "375.7746",
         null,
         null,
         "chitin BIOL022",
         "chitin BIOL022"
        ],
        [
         "28",
         "PP",
         "0.29735494880546076",
         "380.96917",
         null,
         null,
         "chitin BIOL022",
         "chitin BIOL022"
        ],
        [
         "29",
         "PP",
         "0.3050341296928328",
         "386.15938",
         null,
         null,
         "chitin BIOL022",
         "chitin BIOL022"
        ],
        [
         "30",
         "PP",
         "0.32764505119453924",
         "391.34523",
         null,
         null,
         "chitin BIOL022",
         "chitin BIOL022"
        ],
        [
         "31",
         "PP",
         "0.35708191126279865",
         "396.52673",
         null,
         null,
         "chitin BIOL022",
         "chitin BIOL022"
        ],
        [
         "32",
         "PP",
         "0.34428327645051193",
         "401.70388",
         null,
         null,
         "chitin BIOL022",
         "chitin BIOL022"
        ],
        [
         "33",
         "PP",
         "0.3613481228668942",
         "406.87669",
         null,
         null,
         "chitin BIOL022",
         "chitin BIOL022"
        ],
        [
         "34",
         "PP",
         "0.3643344709897611",
         "412.19711",
         null,
         null,
         "chitin BIOL022",
         "chitin BIOL022"
        ],
        [
         "35",
         "PP",
         "0.34940273037542663",
         "417.36112",
         null,
         null,
         "chitin BIOL022",
         "chitin BIOL022"
        ],
        [
         "36",
         "PP",
         "0.43430034129692835",
         "422.52081",
         null,
         null,
         "chitin BIOL022",
         "chitin BIOL022"
        ],
        [
         "37",
         "PP",
         "0.3971843003412969",
         "427.67619",
         null,
         null,
         "chitin BIOL022",
         "chitin BIOL022"
        ],
        [
         "38",
         "PP",
         "0.4236348122866894",
         "432.82724",
         null,
         null,
         "chitin BIOL022",
         "chitin BIOL022"
        ],
        [
         "39",
         "PP",
         "0.41552901023890787",
         "437.97399",
         null,
         null,
         "chitin BIOL022",
         "chitin BIOL022"
        ],
        [
         "40",
         "PP",
         "0.39590443686006827",
         "443.11644",
         null,
         null,
         "chitin BIOL022",
         "chitin BIOL022"
        ],
        [
         "41",
         "PP",
         "0.4040102389078498",
         "448.25458",
         null,
         null,
         "chitin BIOL022",
         "chitin BIOL022"
        ],
        [
         "42",
         "PP",
         "0.36006825938566556",
         "453.38844",
         null,
         null,
         "chitin BIOL022",
         "chitin BIOL022"
        ],
        [
         "43",
         "PP",
         "0.33233788395904434",
         "458.66881",
         null,
         null,
         "chitin BIOL022",
         "chitin BIOL022"
        ],
        [
         "44",
         "PP",
         "0.3643344709897611",
         "463.79397",
         null,
         null,
         "chitin BIOL022",
         "chitin BIOL022"
        ],
        [
         "45",
         "PP",
         "0.3775597269624573",
         "468.91485",
         null,
         null,
         "chitin BIOL022",
         "chitin BIOL022"
        ],
        [
         "46",
         "PP",
         "0.3651877133105802",
         "474.03147",
         null,
         null,
         "chitin BIOL022",
         "chitin BIOL022"
        ],
        [
         "47",
         "PP",
         "0.3890784982935154",
         "479.14381",
         null,
         null,
         "chitin BIOL022",
         "chitin BIOL022"
        ],
        [
         "48",
         "PP",
         "0.3946245733788396",
         "484.2519",
         null,
         null,
         "chitin BIOL022",
         "chitin BIOL022"
        ],
        [
         "49",
         "PP",
         "0.3877986348122867",
         "489.35573",
         null,
         null,
         "chitin BIOL022",
         "chitin BIOL022"
        ]
       ],
       "shape": {
        "columns": 7,
        "rows": 3400
       }
      },
      "text/html": [
       "<div>\n",
       "<style scoped>\n",
       "    .dataframe tbody tr th:only-of-type {\n",
       "        vertical-align: middle;\n",
       "    }\n",
       "\n",
       "    .dataframe tbody tr th {\n",
       "        vertical-align: top;\n",
       "    }\n",
       "\n",
       "    .dataframe thead th {\n",
       "        text-align: right;\n",
       "    }\n",
       "</style>\n",
       "<table border=\"1\" class=\"dataframe\">\n",
       "  <thead>\n",
       "    <tr style=\"text-align: right;\">\n",
       "      <th></th>\n",
       "      <th>sample_id</th>\n",
       "      <th>intensity</th>\n",
       "      <th>wave_number</th>\n",
       "      <th>Comment</th>\n",
       "      <th>comparison_results</th>\n",
       "      <th>best_match</th>\n",
       "      <th>similarity_score</th>\n",
       "    </tr>\n",
       "  </thead>\n",
       "  <tbody>\n",
       "    <tr>\n",
       "      <th>0</th>\n",
       "      <td>PP</td>\n",
       "      <td>0.07</td>\n",
       "      <td>233.38</td>\n",
       "      <td>None</td>\n",
       "      <td>None</td>\n",
       "      <td>chitin BIOL022</td>\n",
       "      <td>chitin BIOL022</td>\n",
       "    </tr>\n",
       "    <tr>\n",
       "      <th>1</th>\n",
       "      <td>PP</td>\n",
       "      <td>0.08</td>\n",
       "      <td>238.70</td>\n",
       "      <td>None</td>\n",
       "      <td>None</td>\n",
       "      <td>chitin BIOL022</td>\n",
       "      <td>chitin BIOL022</td>\n",
       "    </tr>\n",
       "    <tr>\n",
       "      <th>2</th>\n",
       "      <td>PP</td>\n",
       "      <td>0.04</td>\n",
       "      <td>244.01</td>\n",
       "      <td>None</td>\n",
       "      <td>None</td>\n",
       "      <td>chitin BIOL022</td>\n",
       "      <td>chitin BIOL022</td>\n",
       "    </tr>\n",
       "    <tr>\n",
       "      <th>3</th>\n",
       "      <td>PP</td>\n",
       "      <td>0.00</td>\n",
       "      <td>249.31</td>\n",
       "      <td>None</td>\n",
       "      <td>None</td>\n",
       "      <td>chitin BIOL022</td>\n",
       "      <td>chitin BIOL022</td>\n",
       "    </tr>\n",
       "    <tr>\n",
       "      <th>4</th>\n",
       "      <td>PP</td>\n",
       "      <td>0.04</td>\n",
       "      <td>254.61</td>\n",
       "      <td>None</td>\n",
       "      <td>None</td>\n",
       "      <td>chitin BIOL022</td>\n",
       "      <td>chitin BIOL022</td>\n",
       "    </tr>\n",
       "    <tr>\n",
       "      <th>...</th>\n",
       "      <td>...</td>\n",
       "      <td>...</td>\n",
       "      <td>...</td>\n",
       "      <td>...</td>\n",
       "      <td>...</td>\n",
       "      <td>...</td>\n",
       "      <td>...</td>\n",
       "    </tr>\n",
       "    <tr>\n",
       "      <th>3395</th>\n",
       "      <td>S2_preprocessed3</td>\n",
       "      <td>-0.02</td>\n",
       "      <td>2,033.82</td>\n",
       "      <td>None</td>\n",
       "      <td>None</td>\n",
       "      <td>Polyvinyl Chloride 6. Red Cable Cover</td>\n",
       "      <td>Polyvinyl Chloride 6. Red Cable Cover</td>\n",
       "    </tr>\n",
       "    <tr>\n",
       "      <th>3396</th>\n",
       "      <td>S2_preprocessed3</td>\n",
       "      <td>0.02</td>\n",
       "      <td>2,037.71</td>\n",
       "      <td>None</td>\n",
       "      <td>None</td>\n",
       "      <td>Polyvinyl Chloride 6. Red Cable Cover</td>\n",
       "      <td>Polyvinyl Chloride 6. Red Cable Cover</td>\n",
       "    </tr>\n",
       "    <tr>\n",
       "      <th>3397</th>\n",
       "      <td>S2_preprocessed3</td>\n",
       "      <td>-0.01</td>\n",
       "      <td>2,041.61</td>\n",
       "      <td>None</td>\n",
       "      <td>None</td>\n",
       "      <td>Polyvinyl Chloride 6. Red Cable Cover</td>\n",
       "      <td>Polyvinyl Chloride 6. Red Cable Cover</td>\n",
       "    </tr>\n",
       "    <tr>\n",
       "      <th>3398</th>\n",
       "      <td>S2_preprocessed3</td>\n",
       "      <td>-0.00</td>\n",
       "      <td>2,045.50</td>\n",
       "      <td>None</td>\n",
       "      <td>None</td>\n",
       "      <td>Polyvinyl Chloride 6. Red Cable Cover</td>\n",
       "      <td>Polyvinyl Chloride 6. Red Cable Cover</td>\n",
       "    </tr>\n",
       "    <tr>\n",
       "      <th>3399</th>\n",
       "      <td>S2_preprocessed3</td>\n",
       "      <td>0.02</td>\n",
       "      <td>2,049.38</td>\n",
       "      <td>None</td>\n",
       "      <td>None</td>\n",
       "      <td>Polyvinyl Chloride 6. Red Cable Cover</td>\n",
       "      <td>Polyvinyl Chloride 6. Red Cable Cover</td>\n",
       "    </tr>\n",
       "  </tbody>\n",
       "</table>\n",
       "<p>3400 rows × 7 columns</p>\n",
       "</div>"
      ],
      "text/plain": [
       "             sample_id  intensity  wave_number Comment comparison_results  \\\n",
       "0                   PP       0.07       233.38    None               None   \n",
       "1                   PP       0.08       238.70    None               None   \n",
       "2                   PP       0.04       244.01    None               None   \n",
       "3                   PP       0.00       249.31    None               None   \n",
       "4                   PP       0.04       254.61    None               None   \n",
       "...                ...        ...          ...     ...                ...   \n",
       "3395  S2_preprocessed3      -0.02     2,033.82    None               None   \n",
       "3396  S2_preprocessed3       0.02     2,037.71    None               None   \n",
       "3397  S2_preprocessed3      -0.01     2,041.61    None               None   \n",
       "3398  S2_preprocessed3      -0.00     2,045.50    None               None   \n",
       "3399  S2_preprocessed3       0.02     2,049.38    None               None   \n",
       "\n",
       "                                 best_match  \\\n",
       "0                            chitin BIOL022   \n",
       "1                            chitin BIOL022   \n",
       "2                            chitin BIOL022   \n",
       "3                            chitin BIOL022   \n",
       "4                            chitin BIOL022   \n",
       "...                                     ...   \n",
       "3395  Polyvinyl Chloride 6. Red Cable Cover   \n",
       "3396  Polyvinyl Chloride 6. Red Cable Cover   \n",
       "3397  Polyvinyl Chloride 6. Red Cable Cover   \n",
       "3398  Polyvinyl Chloride 6. Red Cable Cover   \n",
       "3399  Polyvinyl Chloride 6. Red Cable Cover   \n",
       "\n",
       "                           similarity_score  \n",
       "0                            chitin BIOL022  \n",
       "1                            chitin BIOL022  \n",
       "2                            chitin BIOL022  \n",
       "3                            chitin BIOL022  \n",
       "4                            chitin BIOL022  \n",
       "...                                     ...  \n",
       "3395  Polyvinyl Chloride 6. Red Cable Cover  \n",
       "3396  Polyvinyl Chloride 6. Red Cable Cover  \n",
       "3397  Polyvinyl Chloride 6. Red Cable Cover  \n",
       "3398  Polyvinyl Chloride 6. Red Cable Cover  \n",
       "3399  Polyvinyl Chloride 6. Red Cable Cover  \n",
       "\n",
       "[3400 rows x 7 columns]"
      ]
     },
     "metadata": {},
     "output_type": "display_data"
    },
    {
     "name": "stdout",
     "output_type": "stream",
     "text": [
      "Total rows in sample_bank: 8400\n",
      "\n",
      "Preview of table 'sqlite_sequence':\n"
     ]
    },
    {
     "data": {
      "application/vnd.microsoft.datawrangler.viewer.v0+json": {
       "columns": [
        {
         "name": "index",
         "rawType": "int64",
         "type": "integer"
        },
        {
         "name": "name",
         "rawType": "object",
         "type": "string"
        },
        {
         "name": "seq",
         "rawType": "int64",
         "type": "integer"
        }
       ],
       "ref": "90044cd8-0cae-4037-b97f-b74ba8a84fee",
       "rows": [
        [
         "0",
         "reference_peaks",
         "2597"
        ]
       ],
       "shape": {
        "columns": 2,
        "rows": 1
       }
      },
      "text/html": [
       "<div>\n",
       "<style scoped>\n",
       "    .dataframe tbody tr th:only-of-type {\n",
       "        vertical-align: middle;\n",
       "    }\n",
       "\n",
       "    .dataframe tbody tr th {\n",
       "        vertical-align: top;\n",
       "    }\n",
       "\n",
       "    .dataframe thead th {\n",
       "        text-align: right;\n",
       "    }\n",
       "</style>\n",
       "<table border=\"1\" class=\"dataframe\">\n",
       "  <thead>\n",
       "    <tr style=\"text-align: right;\">\n",
       "      <th></th>\n",
       "      <th>name</th>\n",
       "      <th>seq</th>\n",
       "    </tr>\n",
       "  </thead>\n",
       "  <tbody>\n",
       "    <tr>\n",
       "      <th>0</th>\n",
       "      <td>reference_peaks</td>\n",
       "      <td>2597</td>\n",
       "    </tr>\n",
       "  </tbody>\n",
       "</table>\n",
       "</div>"
      ],
      "text/plain": [
       "              name   seq\n",
       "0  reference_peaks  2597"
      ]
     },
     "metadata": {},
     "output_type": "display_data"
    },
    {
     "name": "stdout",
     "output_type": "stream",
     "text": [
      "Total rows in sqlite_sequence: 1\n",
      "\n",
      "Preview of table 'reference_peaks':\n"
     ]
    },
    {
     "data": {
      "application/vnd.microsoft.datawrangler.viewer.v0+json": {
       "columns": [
        {
         "name": "index",
         "rawType": "int64",
         "type": "integer"
        },
        {
         "name": "id",
         "rawType": "int64",
         "type": "integer"
        },
        {
         "name": "microplastic_id",
         "rawType": "object",
         "type": "string"
        },
        {
         "name": "peak_rank",
         "rawType": "int64",
         "type": "integer"
        },
        {
         "name": "wavenumber",
         "rawType": "float64",
         "type": "float"
        },
        {
         "name": "intensity",
         "rawType": "float64",
         "type": "float"
        }
       ],
       "ref": "3f990094-efe7-4fc0-aefa-907c91cfdc4b",
       "rows": [
        [
         "0",
         "1",
         "ABS PLAS193",
         "1",
         "998.0",
         "1.0"
        ],
        [
         "1",
         "2",
         "ABS PLAS193",
         "2",
         "2902.0",
         "0.858586597298905"
        ],
        [
         "2",
         "3",
         "ABS PLAS193",
         "3",
         "3054.0",
         "0.836264287310719"
        ],
        [
         "3",
         "4",
         "ABS PLAS193",
         "4",
         "2859.0",
         "0.497860219358591"
        ],
        [
         "4",
         "5",
         "ABS PLAS193",
         "5",
         "2867.0",
         "0.497160516550153"
        ],
        [
         "5",
         "6",
         "ABS PLAS193",
         "6",
         "2234.0",
         "0.483970985120333"
        ],
        [
         "6",
         "7",
         "ABS PLAS193",
         "7",
         "1600.0",
         "0.404905151641735"
        ],
        [
         "7",
         "8",
         "ABS PLAS193",
         "8",
         "1196.0",
         "0.401864096299497"
        ],
        [
         "8",
         "9",
         "ABS PLAS193",
         "9",
         "1028.0",
         "0.384372515443611"
        ],
        [
         "9",
         "10",
         "ABS PLAS193",
         "10",
         "1191.0",
         "0.348961930602561"
        ],
        [
         "10",
         "11",
         "ABS PLAS193",
         "11",
         "1664.0",
         "0.336800398755042"
        ],
        [
         "11",
         "12",
         "ABS PLAS193",
         "12",
         "2999.0",
         "0.311355275116506"
        ],
        [
         "12",
         "13",
         "beachcast white foam sheet PLAS251",
         "1",
         "1003.0",
         "1.0"
        ],
        [
         "13",
         "14",
         "beachcast white foam sheet PLAS251",
         "2",
         "3050.0",
         "0.809003765978692"
        ],
        [
         "14",
         "15",
         "beachcast white foam sheet PLAS251",
         "3",
         "1597.0",
         "0.373064233909944"
        ],
        [
         "15",
         "16",
         "beachcast white foam sheet PLAS251",
         "4",
         "1033.0",
         "0.331008010489925"
        ],
        [
         "16",
         "17",
         "beachcast white foam sheet PLAS251",
         "5",
         "2901.0",
         "0.291481582613305"
        ],
        [
         "17",
         "18",
         "beachcast white foam sheet PLAS251",
         "6",
         "1201.0",
         "0.277830888554631"
        ],
        [
         "18",
         "19",
         "blue fragment PLAS253",
         "1",
         "2880.0",
         "1.0"
        ],
        [
         "19",
         "20",
         "blue fragment PLAS253",
         "2",
         "1525.0",
         "0.901141493151561"
        ],
        [
         "20",
         "21",
         "blue fragment PLAS253",
         "3",
         "2953.0",
         "0.589653785989298"
        ],
        [
         "21",
         "22",
         "blue fragment PLAS253",
         "4",
         "2950.0",
         "0.589552908796051"
        ],
        [
         "22",
         "23",
         "blue fragment PLAS253",
         "5",
         "1448.0",
         "0.515989446350826"
        ],
        [
         "23",
         "24",
         "blue fragment PLAS253",
         "6",
         "1337.0",
         "0.460551730561791"
        ],
        [
         "24",
         "25",
         "blue fragment PLAS253",
         "7",
         "2836.0",
         "0.391342657734214"
        ],
        [
         "25",
         "26",
         "blue fragment PLAS253",
         "8",
         "1143.0",
         "0.267642323404381"
        ],
        [
         "26",
         "27",
         "bone BIOL001",
         "1",
         "957.0",
         "1.0"
        ],
        [
         "27",
         "28",
         "bone BIOL001",
         "2",
         "416.0",
         "0.359349190970476"
        ],
        [
         "28",
         "29",
         "bone BIOL001",
         "3",
         "420.0",
         "0.346834486897952"
        ],
        [
         "29",
         "30",
         "bone BIOL001",
         "4",
         "439.0",
         "0.28111140870968"
        ],
        [
         "30",
         "31",
         "bone BIOL001",
         "5",
         "441.0",
         "0.275911067455725"
        ],
        [
         "31",
         "32",
         "bone BIOL001",
         "6",
         "444.0",
         "0.273893477566254"
        ],
        [
         "32",
         "33",
         "bone BIOL007",
         "1",
         "405.0",
         "1.0"
        ],
        [
         "33",
         "34",
         "bone BIOL007",
         "2",
         "401.0",
         "0.673001765900576"
        ],
        [
         "34",
         "35",
         "bone BIOL007",
         "3",
         "1253.0",
         "0.657530083665438"
        ],
        [
         "35",
         "36",
         "bone BIOL007",
         "4",
         "1242.0",
         "0.648300793344125"
        ],
        [
         "36",
         "37",
         "bone BIOL007",
         "5",
         "1235.0",
         "0.638923373215807"
        ],
        [
         "37",
         "38",
         "bone BIOL007",
         "6",
         "398.0",
         "0.634651429958687"
        ],
        [
         "38",
         "39",
         "bone BIOL007",
         "7",
         "1233.0",
         "0.629370601168132"
        ],
        [
         "39",
         "40",
         "bone BIOL007",
         "8",
         "1230.0",
         "0.619851449218449"
        ],
        [
         "40",
         "41",
         "bone BIOL007",
         "9",
         "1438.0",
         "0.60838587658106"
        ],
        [
         "41",
         "42",
         "bone BIOL007",
         "10",
         "395.0",
         "0.596329984081645"
        ],
        [
         "42",
         "43",
         "bone BIOL007",
         "11",
         "849.0",
         "0.595568080727926"
        ],
        [
         "43",
         "44",
         "bone BIOL007",
         "12",
         "1225.0",
         "0.562290075302898"
        ],
        [
         "44",
         "45",
         "bone BIOL009",
         "1",
         "956.0",
         "1.0"
        ],
        [
         "45",
         "46",
         "bone BIOL009",
         "2",
         "2940.0",
         "0.917303789928496"
        ],
        [
         "46",
         "47",
         "bone BIOL009",
         "3",
         "2978.0",
         "0.670300336506423"
        ],
        [
         "47",
         "48",
         "bone BIOL009",
         "4",
         "2873.0",
         "0.571735912862303"
        ],
        [
         "48",
         "49",
         "bone BIOL009",
         "5",
         "2900.0",
         "0.417245738738567"
        ],
        [
         "49",
         "50",
         "bone BIOL009",
         "6",
         "2907.0",
         "0.412383239519327"
        ]
       ],
       "shape": {
        "columns": 5,
        "rows": 2597
       }
      },
      "text/html": [
       "<div>\n",
       "<style scoped>\n",
       "    .dataframe tbody tr th:only-of-type {\n",
       "        vertical-align: middle;\n",
       "    }\n",
       "\n",
       "    .dataframe tbody tr th {\n",
       "        vertical-align: top;\n",
       "    }\n",
       "\n",
       "    .dataframe thead th {\n",
       "        text-align: right;\n",
       "    }\n",
       "</style>\n",
       "<table border=\"1\" class=\"dataframe\">\n",
       "  <thead>\n",
       "    <tr style=\"text-align: right;\">\n",
       "      <th></th>\n",
       "      <th>id</th>\n",
       "      <th>microplastic_id</th>\n",
       "      <th>peak_rank</th>\n",
       "      <th>wavenumber</th>\n",
       "      <th>intensity</th>\n",
       "    </tr>\n",
       "  </thead>\n",
       "  <tbody>\n",
       "    <tr>\n",
       "      <th>0</th>\n",
       "      <td>1</td>\n",
       "      <td>ABS PLAS193</td>\n",
       "      <td>1</td>\n",
       "      <td>998.00</td>\n",
       "      <td>1.00</td>\n",
       "    </tr>\n",
       "    <tr>\n",
       "      <th>1</th>\n",
       "      <td>2</td>\n",
       "      <td>ABS PLAS193</td>\n",
       "      <td>2</td>\n",
       "      <td>2,902.00</td>\n",
       "      <td>0.86</td>\n",
       "    </tr>\n",
       "    <tr>\n",
       "      <th>2</th>\n",
       "      <td>3</td>\n",
       "      <td>ABS PLAS193</td>\n",
       "      <td>3</td>\n",
       "      <td>3,054.00</td>\n",
       "      <td>0.84</td>\n",
       "    </tr>\n",
       "    <tr>\n",
       "      <th>3</th>\n",
       "      <td>4</td>\n",
       "      <td>ABS PLAS193</td>\n",
       "      <td>4</td>\n",
       "      <td>2,859.00</td>\n",
       "      <td>0.50</td>\n",
       "    </tr>\n",
       "    <tr>\n",
       "      <th>4</th>\n",
       "      <td>5</td>\n",
       "      <td>ABS PLAS193</td>\n",
       "      <td>5</td>\n",
       "      <td>2,867.00</td>\n",
       "      <td>0.50</td>\n",
       "    </tr>\n",
       "    <tr>\n",
       "      <th>...</th>\n",
       "      <td>...</td>\n",
       "      <td>...</td>\n",
       "      <td>...</td>\n",
       "      <td>...</td>\n",
       "      <td>...</td>\n",
       "    </tr>\n",
       "    <tr>\n",
       "      <th>2592</th>\n",
       "      <td>2593</td>\n",
       "      <td>Polystyrene 3. Blue Fragment</td>\n",
       "      <td>1</td>\n",
       "      <td>1,527.36</td>\n",
       "      <td>1.00</td>\n",
       "    </tr>\n",
       "    <tr>\n",
       "      <th>2593</th>\n",
       "      <td>2594</td>\n",
       "      <td>Polystyrene 3. Blue Fragment</td>\n",
       "      <td>2</td>\n",
       "      <td>1,339.00</td>\n",
       "      <td>0.50</td>\n",
       "    </tr>\n",
       "    <tr>\n",
       "      <th>2594</th>\n",
       "      <td>2595</td>\n",
       "      <td>Polystyrene 3. Blue Fragment</td>\n",
       "      <td>3</td>\n",
       "      <td>1,449.89</td>\n",
       "      <td>0.49</td>\n",
       "    </tr>\n",
       "    <tr>\n",
       "      <th>2595</th>\n",
       "      <td>2596</td>\n",
       "      <td>Polystyrene 3. Blue Fragment</td>\n",
       "      <td>4</td>\n",
       "      <td>1,002.08</td>\n",
       "      <td>0.37</td>\n",
       "    </tr>\n",
       "    <tr>\n",
       "      <th>2596</th>\n",
       "      <td>2597</td>\n",
       "      <td>Polystyrene 3. Blue Fragment</td>\n",
       "      <td>5</td>\n",
       "      <td>679.90</td>\n",
       "      <td>0.28</td>\n",
       "    </tr>\n",
       "  </tbody>\n",
       "</table>\n",
       "<p>2597 rows × 5 columns</p>\n",
       "</div>"
      ],
      "text/plain": [
       "        id               microplastic_id  peak_rank  wavenumber  intensity\n",
       "0        1                   ABS PLAS193          1      998.00       1.00\n",
       "1        2                   ABS PLAS193          2    2,902.00       0.86\n",
       "2        3                   ABS PLAS193          3    3,054.00       0.84\n",
       "3        4                   ABS PLAS193          4    2,859.00       0.50\n",
       "4        5                   ABS PLAS193          5    2,867.00       0.50\n",
       "...    ...                           ...        ...         ...        ...\n",
       "2592  2593  Polystyrene 3. Blue Fragment          1    1,527.36       1.00\n",
       "2593  2594  Polystyrene 3. Blue Fragment          2    1,339.00       0.50\n",
       "2594  2595  Polystyrene 3. Blue Fragment          3    1,449.89       0.49\n",
       "2595  2596  Polystyrene 3. Blue Fragment          4    1,002.08       0.37\n",
       "2596  2597  Polystyrene 3. Blue Fragment          5      679.90       0.28\n",
       "\n",
       "[2597 rows x 5 columns]"
      ]
     },
     "metadata": {},
     "output_type": "display_data"
    },
    {
     "name": "stdout",
     "output_type": "stream",
     "text": [
      "Total rows in reference_peaks: 2597\n"
     ]
    }
   ],
   "source": [
    "# Function to preview the first few rows of a table\n",
    "def preview_table(table_name, limit=3400):\n",
    "    query = f\"SELECT * FROM {table_name} LIMIT {limit}\"\n",
    "    return pd.read_sql_query(query, conn)\n",
    "\n",
    "# Preview each table\n",
    "for table in tables:\n",
    "    table_name = table[0]\n",
    "    print(f\"\\nPreview of table '{table_name}':\")\n",
    "    try:\n",
    "        preview_df = preview_table(table_name)\n",
    "        display(preview_df)\n",
    "        \n",
    "        # Get row count\n",
    "        cursor.execute(f\"SELECT COUNT(*) FROM {table_name}\")\n",
    "        row_count = cursor.fetchone()[0]\n",
    "        print(f\"Total rows in {table_name}: {row_count}\")\n",
    "    except Exception as e:\n",
    "        print(f\"Error previewing {table_name}: {e}\")"
   ]
  },
  {
   "cell_type": "markdown",
   "id": "ccaa5e0d",
   "metadata": {},
   "source": [
    "## 4. Visualizing Database Content\n",
    "\n",
    "Now let's create some visualizations to better understand the data. We'll try to create appropriate visualizations based on the content of each table."
   ]
  },
  {
   "cell_type": "code",
   "execution_count": 25,
   "id": "a9e7dd95",
   "metadata": {},
   "outputs": [
    {
     "name": "stdout",
     "output_type": "stream",
     "text": [
      "\n",
      "Visualization for 'microplastics':\n"
     ]
    },
    {
     "data": {
      "text/plain": [
       "<Figure size 1200x600 with 0 Axes>"
      ]
     },
     "metadata": {},
     "output_type": "display_data"
    },
    {
     "name": "stdout",
     "output_type": "stream",
     "text": [
      "\n",
      "Visualization for 'sample_bank':\n"
     ]
    },
    {
     "data": {
      "text/plain": [
       "<Figure size 1200x600 with 0 Axes>"
      ]
     },
     "metadata": {},
     "output_type": "display_data"
    },
    {
     "name": "stdout",
     "output_type": "stream",
     "text": [
      "\n",
      "Visualization for 'sqlite_sequence':\n"
     ]
    },
    {
     "data": {
      "image/png": "[encoded data removed]",
      "text/plain": [
       "<Figure size 1200x600 with 1 Axes>"
      ]
     },
     "metadata": {},
     "output_type": "display_data"
    },
    {
     "name": "stdout",
     "output_type": "stream",
     "text": [
      "\n",
      "Visualization for 'reference_peaks':\n"
     ]
    },
    {
     "data": {
      "image/png": "[encoded data removed]",
      "text/plain": [
       "<Figure size 1200x600 with 1 Axes>"
      ]
     },
     "metadata": {},
     "output_type": "display_data"
    }
   ],
   "source": [
    "# Uncomment this to use plotly for interactive charts\n",
    "# import plotly.express as px\n",
    "# import plotly.graph_objects as go\n",
    "\n",
    "# Function to create visualizations based on table content\n",
    "def visualize_table(table_name):\n",
    "    # Get all data from the table\n",
    "    df = pd.read_sql_query(f\"SELECT * FROM {table_name}\", conn)\n",
    "    \n",
    "    if len(df) == 0:\n",
    "        print(f\"Table {table_name} is empty. No visualization possible.\")\n",
    "        return\n",
    "    \n",
    "    # Set up the figure\n",
    "    plt.figure(figsize=(12, 6))\n",
    "    \n",
    "    # Case 1: If we have spectral data (assuming it has wavelength/intensity columns)\n",
    "    if any(col.lower() in ['wavelength', 'wavenumber', 'intensity', 'raman_shift'] for col in df.columns):\n",
    "        # If it looks like spectral data, plot spectra\n",
    "        if 'wavelength' in df.columns and 'intensity' in df.columns:\n",
    "            plt.plot(df['wavelength'], df['intensity'])\n",
    "            plt.xlabel('Wavelength')\n",
    "            plt.ylabel('Intensity')\n",
    "        elif 'wavenumber' in df.columns and 'intensity' in df.columns:\n",
    "            plt.plot(df['wavenumber'], df['intensity'])\n",
    "            plt.xlabel('Wavenumber (cm⁻¹)')\n",
    "            plt.ylabel('Intensity')            \n",
    "        elif 'raman_shift' in df.columns and any('intensity' in col.lower() for col in df.columns):\n",
    "            # Find the intensity column\n",
    "            intensity_col = next(col for col in df.columns if 'intensity' in col.lower())\n",
    "            plt.plot(df['raman_shift'], df[intensity_col])\n",
    "            plt.xlabel('Raman Shift (cm⁻¹)')\n",
    "            plt.ylabel('Intensity')\n",
    "    \n",
    "    # Case 2: If we have categorical data, make a bar chart\n",
    "    elif df.select_dtypes(include=['object', 'category']).shape[1] > 0:\n",
    "        categorical_col = df.select_dtypes(include=['object', 'category']).columns[0]\n",
    "        value_counts = df[categorical_col].value_counts()\n",
    "        \n",
    "        # Limit to top 20 categories if there are many\n",
    "        if len(value_counts) > 20:\n",
    "            value_counts = value_counts.head(20)\n",
    "            plt.title(f\"Top 20 {categorical_col} in {table_name}\")\n",
    "        else:\n",
    "            plt.title(f\"{categorical_col} Distribution in {table_name}\")\n",
    "            \n",
    "        value_counts.plot(kind='bar')\n",
    "        plt.ylabel('Count')\n",
    "        plt.xticks(rotation=45, ha='right')\n",
    "        \n",
    "    # Case 3: If we have numerical data, make a histogram\n",
    "    elif df.select_dtypes(include=['int64', 'float64']).shape[1] > 0:\n",
    "        numerical_col = df.select_dtypes(include=['int64', 'float64']).columns[0]\n",
    "        plt.hist(df[numerical_col], bins=20, edgecolor='black')\n",
    "        plt.title(f\"Distribution of {numerical_col} in {table_name}\")\n",
    "        plt.xlabel(numerical_col)\n",
    "        plt.ylabel('Frequency')\n",
    "    \n",
    "    # Case 4: Default case if we can't determine appropriate visualization\n",
    "    else:\n",
    "        plt.text(0.5, 0.5, f\"No appropriate visualization for {table_name}\",\n",
    "                 horizontalalignment='center', verticalalignment='center', fontsize=14)\n",
    "    \n",
    "    plt.tight_layout()\n",
    "    plt.show()\n",
    "\n",
    "# Visualize each table\n",
    "for table in tables:\n",
    "    table_name = table[0]\n",
    "    print(f\"\\nVisualization for '{table_name}':\")\n",
    "    try:\n",
    "        visualize_table(table_name)\n",
    "    except Exception as e:\n",
    "        print(f\"Error visualizing {table_name}: {e}\")"
   ]
  },
  {
   "cell_type": "markdown",
   "id": "806a88ca",
   "metadata": {},
   "source": [
    "## 5. SQL Tutorial for Beginners\n",
    "\n",
    "Now let's learn how to write basic SQL queries to interact with the database. We'll start with simple queries and build up to more complex ones.\n",
    "\n",
    "### Basic SQL Operations\n",
    "\n",
    "1. **SELECT**: Used to retrieve data from a table\n",
    "2. **WHERE**: Used to filter records based on conditions\n",
    "3. **ORDER BY**: Used to sort records\n",
    "4. **LIMIT**: Used to restrict the number of records returned\n",
    "5. **JOIN**: Used to combine rows from two or more tables\n",
    "\n",
    "Let's try these operations with our database."
   ]
  },
  {
   "cell_type": "code",
   "execution_count": 26,
   "id": "8d477689",
   "metadata": {},
   "outputs": [
    {
     "name": "stdout",
     "output_type": "stream",
     "text": [
      "Example 1: SELECT * FROM microplastics LIMIT 10\n"
     ]
    },
    {
     "data": {
      "application/vnd.microsoft.datawrangler.viewer.v0+json": {
       "columns": [
        {
         "name": "index",
         "rawType": "int64",
         "type": "integer"
        },
        {
         "name": "ID",
         "rawType": "object",
         "type": "string"
        },
        {
         "name": "Intensity",
         "rawType": "float64",
         "type": "float"
        },
        {
         "name": "WaveNumber",
         "rawType": "float64",
         "type": "float"
        },
        {
         "name": "Comment",
         "rawType": "object",
         "type": "string"
        },
        {
         "name": "Picture",
         "rawType": "object",
         "type": "unknown"
        }
       ],
       "ref": "283cd773-513c-4cdc-aade-5d244f009489",
       "rows": [
        [
         "0",
         "ABS PLAS193",
         "0.0986573092768163",
         "200.0",
         "Test comment ABS PLAS193",
         null
        ],
        [
         "1",
         "ABS PLAS193",
         "0.0987610583894631",
         "201.0",
         "Test comment ABS PLAS193",
         null
        ],
        [
         "2",
         "ABS PLAS193",
         "0.0952941966482868",
         "202.0",
         "Test comment ABS PLAS193",
         null
        ],
        [
         "3",
         "ABS PLAS193",
         "0.0953981659302437",
         "203.0",
         "Test comment ABS PLAS193",
         null
        ],
        [
         "4",
         "ABS PLAS193",
         "0.0990729631255778",
         "204.0",
         "Test comment ABS PLAS193",
         null
        ],
        [
         "5",
         "ABS PLAS193",
         "0.100169007499086",
         "205.0",
         "Test comment ABS PLAS193",
         null
        ],
        [
         "6",
         "ABS PLAS193",
         "0.106819608332827",
         "206.0",
         "Test comment ABS PLAS193",
         null
        ],
        [
         "7",
         "ABS PLAS193",
         "0.106923980752901",
         "207.0",
         "Test comment ABS PLAS193",
         null
        ],
        [
         "8",
         "ABS PLAS193",
         "0.108615434070385",
         "208.0",
         "Test comment ABS PLAS193",
         null
        ],
        [
         "9",
         "ABS PLAS193",
         "0.113282579553988",
         "209.0",
         "Test comment ABS PLAS193",
         null
        ]
       ],
       "shape": {
        "columns": 5,
        "rows": 10
       }
      },
      "text/html": [
       "<div>\n",
       "<style scoped>\n",
       "    .dataframe tbody tr th:only-of-type {\n",
       "        vertical-align: middle;\n",
       "    }\n",
       "\n",
       "    .dataframe tbody tr th {\n",
       "        vertical-align: top;\n",
       "    }\n",
       "\n",
       "    .dataframe thead th {\n",
       "        text-align: right;\n",
       "    }\n",
       "</style>\n",
       "<table border=\"1\" class=\"dataframe\">\n",
       "  <thead>\n",
       "    <tr style=\"text-align: right;\">\n",
       "      <th></th>\n",
       "      <th>ID</th>\n",
       "      <th>Intensity</th>\n",
       "      <th>WaveNumber</th>\n",
       "      <th>Comment</th>\n",
       "      <th>Picture</th>\n",
       "    </tr>\n",
       "  </thead>\n",
       "  <tbody>\n",
       "    <tr>\n",
       "      <th>0</th>\n",
       "      <td>ABS PLAS193</td>\n",
       "      <td>0.10</td>\n",
       "      <td>200.00</td>\n",
       "      <td>Test comment ABS PLAS193</td>\n",
       "      <td>None</td>\n",
       "    </tr>\n",
       "    <tr>\n",
       "      <th>1</th>\n",
       "      <td>ABS PLAS193</td>\n",
       "      <td>0.10</td>\n",
       "      <td>201.00</td>\n",
       "      <td>Test comment ABS PLAS193</td>\n",
       "      <td>None</td>\n",
       "    </tr>\n",
       "    <tr>\n",
       "      <th>2</th>\n",
       "      <td>ABS PLAS193</td>\n",
       "      <td>0.10</td>\n",
       "      <td>202.00</td>\n",
       "      <td>Test comment ABS PLAS193</td>\n",
       "      <td>None</td>\n",
       "    </tr>\n",
       "    <tr>\n",
       "      <th>3</th>\n",
       "      <td>ABS PLAS193</td>\n",
       "      <td>0.10</td>\n",
       "      <td>203.00</td>\n",
       "      <td>Test comment ABS PLAS193</td>\n",
       "      <td>None</td>\n",
       "    </tr>\n",
       "    <tr>\n",
       "      <th>4</th>\n",
       "      <td>ABS PLAS193</td>\n",
       "      <td>0.10</td>\n",
       "      <td>204.00</td>\n",
       "      <td>Test comment ABS PLAS193</td>\n",
       "      <td>None</td>\n",
       "    </tr>\n",
       "    <tr>\n",
       "      <th>5</th>\n",
       "      <td>ABS PLAS193</td>\n",
       "      <td>0.10</td>\n",
       "      <td>205.00</td>\n",
       "      <td>Test comment ABS PLAS193</td>\n",
       "      <td>None</td>\n",
       "    </tr>\n",
       "    <tr>\n",
       "      <th>6</th>\n",
       "      <td>ABS PLAS193</td>\n",
       "      <td>0.11</td>\n",
       "      <td>206.00</td>\n",
       "      <td>Test comment ABS PLAS193</td>\n",
       "      <td>None</td>\n",
       "    </tr>\n",
       "    <tr>\n",
       "      <th>7</th>\n",
       "      <td>ABS PLAS193</td>\n",
       "      <td>0.11</td>\n",
       "      <td>207.00</td>\n",
       "      <td>Test comment ABS PLAS193</td>\n",
       "      <td>None</td>\n",
       "    </tr>\n",
       "    <tr>\n",
       "      <th>8</th>\n",
       "      <td>ABS PLAS193</td>\n",
       "      <td>0.11</td>\n",
       "      <td>208.00</td>\n",
       "      <td>Test comment ABS PLAS193</td>\n",
       "      <td>None</td>\n",
       "    </tr>\n",
       "    <tr>\n",
       "      <th>9</th>\n",
       "      <td>ABS PLAS193</td>\n",
       "      <td>0.11</td>\n",
       "      <td>209.00</td>\n",
       "      <td>Test comment ABS PLAS193</td>\n",
       "      <td>None</td>\n",
       "    </tr>\n",
       "  </tbody>\n",
       "</table>\n",
       "</div>"
      ],
      "text/plain": [
       "            ID  Intensity  WaveNumber                   Comment Picture\n",
       "0  ABS PLAS193       0.10      200.00  Test comment ABS PLAS193    None\n",
       "1  ABS PLAS193       0.10      201.00  Test comment ABS PLAS193    None\n",
       "2  ABS PLAS193       0.10      202.00  Test comment ABS PLAS193    None\n",
       "3  ABS PLAS193       0.10      203.00  Test comment ABS PLAS193    None\n",
       "4  ABS PLAS193       0.10      204.00  Test comment ABS PLAS193    None\n",
       "5  ABS PLAS193       0.10      205.00  Test comment ABS PLAS193    None\n",
       "6  ABS PLAS193       0.11      206.00  Test comment ABS PLAS193    None\n",
       "7  ABS PLAS193       0.11      207.00  Test comment ABS PLAS193    None\n",
       "8  ABS PLAS193       0.11      208.00  Test comment ABS PLAS193    None\n",
       "9  ABS PLAS193       0.11      209.00  Test comment ABS PLAS193    None"
      ]
     },
     "metadata": {},
     "output_type": "display_data"
    },
    {
     "name": "stdout",
     "output_type": "stream",
     "text": [
      "\n",
      "Example 2: SELECT ID, Intensity FROM microplastics LIMIT 5\n"
     ]
    },
    {
     "data": {
      "application/vnd.microsoft.datawrangler.viewer.v0+json": {
       "columns": [
        {
         "name": "index",
         "rawType": "int64",
         "type": "integer"
        },
        {
         "name": "ID",
         "rawType": "object",
         "type": "string"
        },
        {
         "name": "Intensity",
         "rawType": "float64",
         "type": "float"
        }
       ],
       "ref": "63348da4-435d-4ceb-aeee-302c0fcce5c2",
       "rows": [
        [
         "0",
         "ABS PLAS193",
         "0.0986573092768163"
        ],
        [
         "1",
         "ABS PLAS193",
         "0.0987610583894631"
        ],
        [
         "2",
         "ABS PLAS193",
         "0.0952941966482868"
        ],
        [
         "3",
         "ABS PLAS193",
         "0.0953981659302437"
        ],
        [
         "4",
         "ABS PLAS193",
         "0.0990729631255778"
        ]
       ],
       "shape": {
        "columns": 2,
        "rows": 5
       }
      },
      "text/html": [
       "<div>\n",
       "<style scoped>\n",
       "    .dataframe tbody tr th:only-of-type {\n",
       "        vertical-align: middle;\n",
       "    }\n",
       "\n",
       "    .dataframe tbody tr th {\n",
       "        vertical-align: top;\n",
       "    }\n",
       "\n",
       "    .dataframe thead th {\n",
       "        text-align: right;\n",
       "    }\n",
       "</style>\n",
       "<table border=\"1\" class=\"dataframe\">\n",
       "  <thead>\n",
       "    <tr style=\"text-align: right;\">\n",
       "      <th></th>\n",
       "      <th>ID</th>\n",
       "      <th>Intensity</th>\n",
       "    </tr>\n",
       "  </thead>\n",
       "  <tbody>\n",
       "    <tr>\n",
       "      <th>0</th>\n",
       "      <td>ABS PLAS193</td>\n",
       "      <td>0.10</td>\n",
       "    </tr>\n",
       "    <tr>\n",
       "      <th>1</th>\n",
       "      <td>ABS PLAS193</td>\n",
       "      <td>0.10</td>\n",
       "    </tr>\n",
       "    <tr>\n",
       "      <th>2</th>\n",
       "      <td>ABS PLAS193</td>\n",
       "      <td>0.10</td>\n",
       "    </tr>\n",
       "    <tr>\n",
       "      <th>3</th>\n",
       "      <td>ABS PLAS193</td>\n",
       "      <td>0.10</td>\n",
       "    </tr>\n",
       "    <tr>\n",
       "      <th>4</th>\n",
       "      <td>ABS PLAS193</td>\n",
       "      <td>0.10</td>\n",
       "    </tr>\n",
       "  </tbody>\n",
       "</table>\n",
       "</div>"
      ],
      "text/plain": [
       "            ID  Intensity\n",
       "0  ABS PLAS193       0.10\n",
       "1  ABS PLAS193       0.10\n",
       "2  ABS PLAS193       0.10\n",
       "3  ABS PLAS193       0.10\n",
       "4  ABS PLAS193       0.10"
      ]
     },
     "metadata": {},
     "output_type": "display_data"
    },
    {
     "name": "stdout",
     "output_type": "stream",
     "text": [
      "\n",
      "Example 3: SELECT with ORDER BY\n",
      "SQL: SELECT ID, Intensity FROM microplastics ORDER BY ID LIMIT 5\n"
     ]
    },
    {
     "data": {
      "application/vnd.microsoft.datawrangler.viewer.v0+json": {
       "columns": [
        {
         "name": "index",
         "rawType": "int64",
         "type": "integer"
        },
        {
         "name": "ID",
         "rawType": "object",
         "type": "string"
        },
        {
         "name": "Intensity",
         "rawType": "float64",
         "type": "float"
        }
       ],
       "ref": "44f3e5d4-8544-4409-bb65-86e00b0981fc",
       "rows": [
        [
         "0",
         "ABS PLAS193",
         "0.0986573092768163"
        ],
        [
         "1",
         "ABS PLAS193",
         "0.0987610583894631"
        ],
        [
         "2",
         "ABS PLAS193",
         "0.0952941966482868"
        ],
        [
         "3",
         "ABS PLAS193",
         "0.0953981659302437"
        ],
        [
         "4",
         "ABS PLAS193",
         "0.0990729631255778"
        ]
       ],
       "shape": {
        "columns": 2,
        "rows": 5
       }
      },
      "text/html": [
       "<div>\n",
       "<style scoped>\n",
       "    .dataframe tbody tr th:only-of-type {\n",
       "        vertical-align: middle;\n",
       "    }\n",
       "\n",
       "    .dataframe tbody tr th {\n",
       "        vertical-align: top;\n",
       "    }\n",
       "\n",
       "    .dataframe thead th {\n",
       "        text-align: right;\n",
       "    }\n",
       "</style>\n",
       "<table border=\"1\" class=\"dataframe\">\n",
       "  <thead>\n",
       "    <tr style=\"text-align: right;\">\n",
       "      <th></th>\n",
       "      <th>ID</th>\n",
       "      <th>Intensity</th>\n",
       "    </tr>\n",
       "  </thead>\n",
       "  <tbody>\n",
       "    <tr>\n",
       "      <th>0</th>\n",
       "      <td>ABS PLAS193</td>\n",
       "      <td>0.10</td>\n",
       "    </tr>\n",
       "    <tr>\n",
       "      <th>1</th>\n",
       "      <td>ABS PLAS193</td>\n",
       "      <td>0.10</td>\n",
       "    </tr>\n",
       "    <tr>\n",
       "      <th>2</th>\n",
       "      <td>ABS PLAS193</td>\n",
       "      <td>0.10</td>\n",
       "    </tr>\n",
       "    <tr>\n",
       "      <th>3</th>\n",
       "      <td>ABS PLAS193</td>\n",
       "      <td>0.10</td>\n",
       "    </tr>\n",
       "    <tr>\n",
       "      <th>4</th>\n",
       "      <td>ABS PLAS193</td>\n",
       "      <td>0.10</td>\n",
       "    </tr>\n",
       "  </tbody>\n",
       "</table>\n",
       "</div>"
      ],
      "text/plain": [
       "            ID  Intensity\n",
       "0  ABS PLAS193       0.10\n",
       "1  ABS PLAS193       0.10\n",
       "2  ABS PLAS193       0.10\n",
       "3  ABS PLAS193       0.10\n",
       "4  ABS PLAS193       0.10"
      ]
     },
     "metadata": {},
     "output_type": "display_data"
    },
    {
     "name": "stdout",
     "output_type": "stream",
     "text": [
      "\n",
      "Example 4: SELECT with WHERE clause\n",
      "SQL: SELECT * FROM microplastics WHERE Intensity > 0 LIMIT 5\n"
     ]
    },
    {
     "data": {
      "application/vnd.microsoft.datawrangler.viewer.v0+json": {
       "columns": [
        {
         "name": "index",
         "rawType": "int64",
         "type": "integer"
        },
        {
         "name": "ID",
         "rawType": "object",
         "type": "string"
        },
        {
         "name": "Intensity",
         "rawType": "float64",
         "type": "float"
        },
        {
         "name": "WaveNumber",
         "rawType": "float64",
         "type": "float"
        },
        {
         "name": "Comment",
         "rawType": "object",
         "type": "string"
        },
        {
         "name": "Picture",
         "rawType": "object",
         "type": "unknown"
        }
       ],
       "ref": "20382af6-303b-4495-bbc7-be34e7d76cc4",
       "rows": [
        [
         "0",
         "ABS PLAS193",
         "0.0986573092768163",
         "200.0",
         "Test comment ABS PLAS193",
         null
        ],
        [
         "1",
         "ABS PLAS193",
         "0.0987610583894631",
         "201.0",
         "Test comment ABS PLAS193",
         null
        ],
        [
         "2",
         "ABS PLAS193",
         "0.0952941966482868",
         "202.0",
         "Test comment ABS PLAS193",
         null
        ],
        [
         "3",
         "ABS PLAS193",
         "0.0953981659302437",
         "203.0",
         "Test comment ABS PLAS193",
         null
        ],
        [
         "4",
         "ABS PLAS193",
         "0.0990729631255778",
         "204.0",
         "Test comment ABS PLAS193",
         null
        ]
       ],
       "shape": {
        "columns": 5,
        "rows": 5
       }
      },
      "text/html": [
       "<div>\n",
       "<style scoped>\n",
       "    .dataframe tbody tr th:only-of-type {\n",
       "        vertical-align: middle;\n",
       "    }\n",
       "\n",
       "    .dataframe tbody tr th {\n",
       "        vertical-align: top;\n",
       "    }\n",
       "\n",
       "    .dataframe thead th {\n",
       "        text-align: right;\n",
       "    }\n",
       "</style>\n",
       "<table border=\"1\" class=\"dataframe\">\n",
       "  <thead>\n",
       "    <tr style=\"text-align: right;\">\n",
       "      <th></th>\n",
       "      <th>ID</th>\n",
       "      <th>Intensity</th>\n",
       "      <th>WaveNumber</th>\n",
       "      <th>Comment</th>\n",
       "      <th>Picture</th>\n",
       "    </tr>\n",
       "  </thead>\n",
       "  <tbody>\n",
       "    <tr>\n",
       "      <th>0</th>\n",
       "      <td>ABS PLAS193</td>\n",
       "      <td>0.10</td>\n",
       "      <td>200.00</td>\n",
       "      <td>Test comment ABS PLAS193</td>\n",
       "      <td>None</td>\n",
       "    </tr>\n",
       "    <tr>\n",
       "      <th>1</th>\n",
       "      <td>ABS PLAS193</td>\n",
       "      <td>0.10</td>\n",
       "      <td>201.00</td>\n",
       "      <td>Test comment ABS PLAS193</td>\n",
       "      <td>None</td>\n",
       "    </tr>\n",
       "    <tr>\n",
       "      <th>2</th>\n",
       "      <td>ABS PLAS193</td>\n",
       "      <td>0.10</td>\n",
       "      <td>202.00</td>\n",
       "      <td>Test comment ABS PLAS193</td>\n",
       "      <td>None</td>\n",
       "    </tr>\n",
       "    <tr>\n",
       "      <th>3</th>\n",
       "      <td>ABS PLAS193</td>\n",
       "      <td>0.10</td>\n",
       "      <td>203.00</td>\n",
       "      <td>Test comment ABS PLAS193</td>\n",
       "      <td>None</td>\n",
       "    </tr>\n",
       "    <tr>\n",
       "      <th>4</th>\n",
       "      <td>ABS PLAS193</td>\n",
       "      <td>0.10</td>\n",
       "      <td>204.00</td>\n",
       "      <td>Test comment ABS PLAS193</td>\n",
       "      <td>None</td>\n",
       "    </tr>\n",
       "  </tbody>\n",
       "</table>\n",
       "</div>"
      ],
      "text/plain": [
       "            ID  Intensity  WaveNumber                   Comment Picture\n",
       "0  ABS PLAS193       0.10      200.00  Test comment ABS PLAS193    None\n",
       "1  ABS PLAS193       0.10      201.00  Test comment ABS PLAS193    None\n",
       "2  ABS PLAS193       0.10      202.00  Test comment ABS PLAS193    None\n",
       "3  ABS PLAS193       0.10      203.00  Test comment ABS PLAS193    None\n",
       "4  ABS PLAS193       0.10      204.00  Test comment ABS PLAS193    None"
      ]
     },
     "metadata": {},
     "output_type": "display_data"
    }
   ],
   "source": [
    "# Example 1: Basic SELECT query\n",
    "# Select all rows from the first table we found (adjust as needed)\n",
    "if tables:  # Only proceed if we have tables\n",
    "    first_table = tables[0][0]\n",
    "    query = f\"SELECT * FROM {first_table} LIMIT 10\"\n",
    "    result_df = pd.read_sql_query(query, conn)\n",
    "    \n",
    "    print(f\"Example 1: SELECT * FROM {first_table} LIMIT 10\")\n",
    "    display(result_df)\n",
    "    \n",
    "    # Get column names for next examples\n",
    "    columns = list(result_df.columns)\n",
    "    \n",
    "    if len(columns) >= 2:  # Only proceed if we have at least 2 columns for demonstration\n",
    "        # Example 2: SELECT specific columns\n",
    "        query = f\"SELECT {columns[0]}, {columns[1]} FROM {first_table} LIMIT 5\"\n",
    "        result_df = pd.read_sql_query(query, conn)\n",
    "        \n",
    "        print(f\"\\nExample 2: SELECT {columns[0]}, {columns[1]} FROM {first_table} LIMIT 5\")\n",
    "        display(result_df)\n",
    "        \n",
    "        # Example 3: SELECT with ORDER BY\n",
    "        query = f\"SELECT {columns[0]}, {columns[1]} FROM {first_table} ORDER BY {columns[0]} LIMIT 5\"\n",
    "        result_df = pd.read_sql_query(query, conn)\n",
    "        \n",
    "        print(f\"\\nExample 3: SELECT with ORDER BY\")\n",
    "        print(f\"SQL: SELECT {columns[0]}, {columns[1]} FROM {first_table} ORDER BY {columns[0]} LIMIT 5\")\n",
    "        display(result_df)\n",
    "        \n",
    "        # Try to find a numeric column for WHERE clause example\n",
    "        numeric_col = None\n",
    "        for col in columns:\n",
    "            try:\n",
    "                # Check if the column contains numeric data\n",
    "                pd.to_numeric(result_df[col])\n",
    "                numeric_col = col\n",
    "                break\n",
    "            except:\n",
    "                continue\n",
    "        \n",
    "        if numeric_col:\n",
    "            # Example 4: SELECT with WHERE clause\n",
    "            query = f\"SELECT * FROM {first_table} WHERE {numeric_col} > 0 LIMIT 5\"\n",
    "            result_df = pd.read_sql_query(query, conn)\n",
    "            \n",
    "            print(f\"\\nExample 4: SELECT with WHERE clause\")\n",
    "            print(f\"SQL: SELECT * FROM {first_table} WHERE {numeric_col} > 0 LIMIT 5\")\n",
    "            display(result_df)\n",
    "else:\n",
    "    print(\"No tables found in the database for SQL examples.\")"
   ]
  },
  {
   "cell_type": "code",
   "execution_count": 27,
   "id": "daee22b6",
   "metadata": {},
   "outputs": [
    {
     "name": "stdout",
     "output_type": "stream",
     "text": [
      "\n",
      "Example 5: JOIN operation\n",
      "SQL: SELECT t1.*, t2.* FROM microplastics t1 JOIN sample_bank t2 ON t1.Comment = t2.Comment LIMIT 5\n"
     ]
    },
    {
     "data": {
      "application/vnd.microsoft.datawrangler.viewer.v0+json": {
       "columns": [
        {
         "name": "index",
         "rawType": "int64",
         "type": "integer"
        },
        {
         "name": "ID",
         "rawType": "object",
         "type": "string"
        },
        {
         "name": "Intensity",
         "rawType": "object",
         "type": "string"
        },
        {
         "name": "WaveNumber",
         "rawType": "object",
         "type": "string"
        },
        {
         "name": "Comment",
         "rawType": "object",
         "type": "string"
        },
        {
         "name": "Picture",
         "rawType": "object",
         "type": "string"
        },
        {
         "name": "sample_id",
         "rawType": "object",
         "type": "string"
        },
        {
         "name": "intensity",
         "rawType": "object",
         "type": "string"
        },
        {
         "name": "wave_number",
         "rawType": "object",
         "type": "string"
        },
        {
         "name": "Comment",
         "rawType": "object",
         "type": "string"
        },
        {
         "name": "comparison_results",
         "rawType": "object",
         "type": "string"
        },
        {
         "name": "best_match",
         "rawType": "object",
         "type": "string"
        },
        {
         "name": "similarity_score",
         "rawType": "object",
         "type": "string"
        }
       ],
       "ref": "38bd523a-b7d8-4a06-8b22-f942180b6950",
       "rows": [],
       "shape": {
        "columns": 12,
        "rows": 0
       }
      },
      "text/html": [
       "<div>\n",
       "<style scoped>\n",
       "    .dataframe tbody tr th:only-of-type {\n",
       "        vertical-align: middle;\n",
       "    }\n",
       "\n",
       "    .dataframe tbody tr th {\n",
       "        vertical-align: top;\n",
       "    }\n",
       "\n",
       "    .dataframe thead th {\n",
       "        text-align: right;\n",
       "    }\n",
       "</style>\n",
       "<table border=\"1\" class=\"dataframe\">\n",
       "  <thead>\n",
       "    <tr style=\"text-align: right;\">\n",
       "      <th></th>\n",
       "      <th>ID</th>\n",
       "      <th>Intensity</th>\n",
       "      <th>WaveNumber</th>\n",
       "      <th>Comment</th>\n",
       "      <th>Picture</th>\n",
       "      <th>sample_id</th>\n",
       "      <th>intensity</th>\n",
       "      <th>wave_number</th>\n",
       "      <th>Comment</th>\n",
       "      <th>comparison_results</th>\n",
       "      <th>best_match</th>\n",
       "      <th>similarity_score</th>\n",
       "    </tr>\n",
       "  </thead>\n",
       "  <tbody>\n",
       "  </tbody>\n",
       "</table>\n",
       "</div>"
      ],
      "text/plain": [
       "Empty DataFrame\n",
       "Columns: [ID, Intensity, WaveNumber, Comment, Picture, sample_id, intensity, wave_number, Comment, comparison_results, best_match, similarity_score]\n",
       "Index: []"
      ]
     },
     "metadata": {},
     "output_type": "display_data"
    }
   ],
   "source": [
    "# Example 5: JOIN operation (if we have multiple tables with related data)\n",
    "if len(tables) >= 2:  # Only proceed if we have at least 2 tables\n",
    "    table1 = tables[0][0]\n",
    "    table2 = tables[1][0]\n",
    "    \n",
    "    # Get columns from both tables to find potential join columns\n",
    "    cols1 = [col[1] for col in cursor.execute(f\"PRAGMA table_info({table1})\").fetchall()]\n",
    "    cols2 = [col[1] for col in cursor.execute(f\"PRAGMA table_info({table2})\").fetchall()]\n",
    "    \n",
    "    # Look for common column names (potential join keys)\n",
    "    common_cols = set(cols1).intersection(set(cols2))\n",
    "    \n",
    "    if common_cols:  # If we found potential join columns\n",
    "        join_col = list(common_cols)[0]\n",
    "        query = f\"\"\"\n",
    "        SELECT t1.*, t2.*\n",
    "        FROM {table1} t1\n",
    "        JOIN {table2} t2 ON t1.{join_col} = t2.{join_col}\n",
    "        LIMIT 5\n",
    "        \"\"\"\n",
    "        \n",
    "        try:\n",
    "            result_df = pd.read_sql_query(query, conn)\n",
    "            print(f\"\\nExample 5: JOIN operation\")\n",
    "            print(f\"SQL: SELECT t1.*, t2.* FROM {table1} t1 JOIN {table2} t2 ON t1.{join_col} = t2.{join_col} LIMIT 5\")\n",
    "            display(result_df)\n",
    "        except Exception as e:\n",
    "            print(f\"\\nCouldn't perform JOIN example: {e}\")\n",
    "            print(\"JOIN operations require tables with related columns.\")\n",
    "    else:\n",
    "        print(\"\\nNo common columns found between tables for JOIN example.\")"
   ]
  },
  {
   "cell_type": "markdown",
   "id": "f6b26d23",
   "metadata": {},
   "source": [
    "## 6. Understanding SQL Queries\n",
    "\n",
    "Let's break down the basic SQL syntax for beginners:\n",
    "\n",
    "### SELECT Statement\n",
    "\n",
    "```sql\n",
    "SELECT column1, column2, ... \n",
    "FROM table_name\n",
    "WHERE condition\n",
    "ORDER BY column1 [ASC|DESC]\n",
    "LIMIT number;\n",
    "```\n",
    "\n",
    "- **SELECT**: Specifies which columns you want to retrieve\n",
    "- **FROM**: Specifies which table to query\n",
    "- **WHERE**: Filters records based on a condition\n",
    "- **ORDER BY**: Sorts the result\n",
    "- **LIMIT**: Restricts how many rows are returned\n",
    "\n",
    "### Common WHERE Conditions\n",
    "\n",
    "- Equal: `=`\n",
    "- Not Equal: `<>` or `!=`\n",
    "- Greater Than: `>`\n",
    "- Less Than: `<`\n",
    "- Greater Than or Equal: `>=`\n",
    "- Less Than or Equal: `<=`\n",
    "- BETWEEN: `BETWEEN value1 AND value2`\n",
    "- LIKE: `LIKE pattern` (use with wildcards like `%`)\n",
    "- IN: `IN (value1, value2, ...)`\n",
    "\n",
    "### JOIN Operations\n",
    "\n",
    "JOINs are used to combine rows from two or more tables based on a related column.\n",
    "\n",
    "```sql\n",
    "SELECT column1, column2, ...\n",
    "FROM table1\n",
    "JOIN table2 ON table1.common_column = table2.common_column;\n",
    "```\n",
    "\n",
    "Types of JOINs:\n",
    "- INNER JOIN: Returns records with matching values in both tables\n",
    "- LEFT JOIN: Returns all records from the left table and matched records from the right\n",
    "- RIGHT JOIN: Returns all records from the right table and matched records from the left\n",
    "- FULL JOIN: Returns all records when there's a match in either table"
   ]
  },
  {
   "cell_type": "markdown",
   "id": "93f8dec9",
   "metadata": {},
   "source": [
    "## 7. Practical Examples with the Microplastics Database\n",
    "\n",
    "Now let's apply what we've learned to create some practical queries specific to our microplastics_reference database."
   ]
  },
  {
   "cell_type": "code",
   "execution_count": 28,
   "id": "3a0a37ff",
   "metadata": {},
   "outputs": [
    {
     "name": "stdout",
     "output_type": "stream",
     "text": [
      "\n",
      "Searching for records in microplastics\n",
      "SQL: SELECT * FROM microplastics WHERE ID LIKE '%a%' LIMIT 10\n"
     ]
    },
    {
     "data": {
      "application/vnd.microsoft.datawrangler.viewer.v0+json": {
       "columns": [
        {
         "name": "index",
         "rawType": "int64",
         "type": "integer"
        },
        {
         "name": "ID",
         "rawType": "object",
         "type": "string"
        },
        {
         "name": "Intensity",
         "rawType": "float64",
         "type": "float"
        },
        {
         "name": "WaveNumber",
         "rawType": "float64",
         "type": "float"
        },
        {
         "name": "Comment",
         "rawType": "object",
         "type": "string"
        },
        {
         "name": "Picture",
         "rawType": "object",
         "type": "unknown"
        }
       ],
       "ref": "ad23c53b-edb6-4b1c-bebe-46ace7d27fd5",
       "rows": [
        [
         "0",
         "ABS PLAS193",
         "0.0986573092768163",
         "200.0",
         "Test comment ABS PLAS193",
         null
        ],
        [
         "1",
         "ABS PLAS193",
         "0.0987610583894631",
         "201.0",
         "Test comment ABS PLAS193",
         null
        ],
        [
         "2",
         "ABS PLAS193",
         "0.0952941966482868",
         "202.0",
         "Test comment ABS PLAS193",
         null
        ],
        [
         "3",
         "ABS PLAS193",
         "0.0953981659302437",
         "203.0",
         "Test comment ABS PLAS193",
         null
        ],
        [
         "4",
         "ABS PLAS193",
         "0.0990729631255778",
         "204.0",
         "Test comment ABS PLAS193",
         null
        ],
        [
         "5",
         "ABS PLAS193",
         "0.100169007499086",
         "205.0",
         "Test comment ABS PLAS193",
         null
        ],
        [
         "6",
         "ABS PLAS193",
         "0.106819608332827",
         "206.0",
         "Test comment ABS PLAS193",
         null
        ],
        [
         "7",
         "ABS PLAS193",
         "0.106923980752901",
         "207.0",
         "Test comment ABS PLAS193",
         null
        ],
        [
         "8",
         "ABS PLAS193",
         "0.108615434070385",
         "208.0",
         "Test comment ABS PLAS193",
         null
        ],
        [
         "9",
         "ABS PLAS193",
         "0.113282579553988",
         "209.0",
         "Test comment ABS PLAS193",
         null
        ]
       ],
       "shape": {
        "columns": 5,
        "rows": 10
       }
      },
      "text/html": [
       "<div>\n",
       "<style scoped>\n",
       "    .dataframe tbody tr th:only-of-type {\n",
       "        vertical-align: middle;\n",
       "    }\n",
       "\n",
       "    .dataframe tbody tr th {\n",
       "        vertical-align: top;\n",
       "    }\n",
       "\n",
       "    .dataframe thead th {\n",
       "        text-align: right;\n",
       "    }\n",
       "</style>\n",
       "<table border=\"1\" class=\"dataframe\">\n",
       "  <thead>\n",
       "    <tr style=\"text-align: right;\">\n",
       "      <th></th>\n",
       "      <th>ID</th>\n",
       "      <th>Intensity</th>\n",
       "      <th>WaveNumber</th>\n",
       "      <th>Comment</th>\n",
       "      <th>Picture</th>\n",
       "    </tr>\n",
       "  </thead>\n",
       "  <tbody>\n",
       "    <tr>\n",
       "      <th>0</th>\n",
       "      <td>ABS PLAS193</td>\n",
       "      <td>0.10</td>\n",
       "      <td>200.00</td>\n",
       "      <td>Test comment ABS PLAS193</td>\n",
       "      <td>None</td>\n",
       "    </tr>\n",
       "    <tr>\n",
       "      <th>1</th>\n",
       "      <td>ABS PLAS193</td>\n",
       "      <td>0.10</td>\n",
       "      <td>201.00</td>\n",
       "      <td>Test comment ABS PLAS193</td>\n",
       "      <td>None</td>\n",
       "    </tr>\n",
       "    <tr>\n",
       "      <th>2</th>\n",
       "      <td>ABS PLAS193</td>\n",
       "      <td>0.10</td>\n",
       "      <td>202.00</td>\n",
       "      <td>Test comment ABS PLAS193</td>\n",
       "      <td>None</td>\n",
       "    </tr>\n",
       "    <tr>\n",
       "      <th>3</th>\n",
       "      <td>ABS PLAS193</td>\n",
       "      <td>0.10</td>\n",
       "      <td>203.00</td>\n",
       "      <td>Test comment ABS PLAS193</td>\n",
       "      <td>None</td>\n",
       "    </tr>\n",
       "    <tr>\n",
       "      <th>4</th>\n",
       "      <td>ABS PLAS193</td>\n",
       "      <td>0.10</td>\n",
       "      <td>204.00</td>\n",
       "      <td>Test comment ABS PLAS193</td>\n",
       "      <td>None</td>\n",
       "    </tr>\n",
       "    <tr>\n",
       "      <th>5</th>\n",
       "      <td>ABS PLAS193</td>\n",
       "      <td>0.10</td>\n",
       "      <td>205.00</td>\n",
       "      <td>Test comment ABS PLAS193</td>\n",
       "      <td>None</td>\n",
       "    </tr>\n",
       "    <tr>\n",
       "      <th>6</th>\n",
       "      <td>ABS PLAS193</td>\n",
       "      <td>0.11</td>\n",
       "      <td>206.00</td>\n",
       "      <td>Test comment ABS PLAS193</td>\n",
       "      <td>None</td>\n",
       "    </tr>\n",
       "    <tr>\n",
       "      <th>7</th>\n",
       "      <td>ABS PLAS193</td>\n",
       "      <td>0.11</td>\n",
       "      <td>207.00</td>\n",
       "      <td>Test comment ABS PLAS193</td>\n",
       "      <td>None</td>\n",
       "    </tr>\n",
       "    <tr>\n",
       "      <th>8</th>\n",
       "      <td>ABS PLAS193</td>\n",
       "      <td>0.11</td>\n",
       "      <td>208.00</td>\n",
       "      <td>Test comment ABS PLAS193</td>\n",
       "      <td>None</td>\n",
       "    </tr>\n",
       "    <tr>\n",
       "      <th>9</th>\n",
       "      <td>ABS PLAS193</td>\n",
       "      <td>0.11</td>\n",
       "      <td>209.00</td>\n",
       "      <td>Test comment ABS PLAS193</td>\n",
       "      <td>None</td>\n",
       "    </tr>\n",
       "  </tbody>\n",
       "</table>\n",
       "</div>"
      ],
      "text/plain": [
       "            ID  Intensity  WaveNumber                   Comment Picture\n",
       "0  ABS PLAS193       0.10      200.00  Test comment ABS PLAS193    None\n",
       "1  ABS PLAS193       0.10      201.00  Test comment ABS PLAS193    None\n",
       "2  ABS PLAS193       0.10      202.00  Test comment ABS PLAS193    None\n",
       "3  ABS PLAS193       0.10      203.00  Test comment ABS PLAS193    None\n",
       "4  ABS PLAS193       0.10      204.00  Test comment ABS PLAS193    None\n",
       "5  ABS PLAS193       0.10      205.00  Test comment ABS PLAS193    None\n",
       "6  ABS PLAS193       0.11      206.00  Test comment ABS PLAS193    None\n",
       "7  ABS PLAS193       0.11      207.00  Test comment ABS PLAS193    None\n",
       "8  ABS PLAS193       0.11      208.00  Test comment ABS PLAS193    None\n",
       "9  ABS PLAS193       0.11      209.00  Test comment ABS PLAS193    None"
      ]
     },
     "metadata": {},
     "output_type": "display_data"
    },
    {
     "name": "stdout",
     "output_type": "stream",
     "text": [
      "\n",
      "Counting records by category in microplastics\n",
      "SQL: SELECT ID, COUNT(*) as count FROM microplastics GROUP BY ID ORDER BY count DESC\n"
     ]
    },
    {
     "data": {
      "application/vnd.microsoft.datawrangler.viewer.v0+json": {
       "columns": [
        {
         "name": "index",
         "rawType": "int64",
         "type": "integer"
        },
        {
         "name": "ID",
         "rawType": "object",
         "type": "string"
        },
        {
         "name": "count",
         "rawType": "int64",
         "type": "integer"
        }
       ],
       "ref": "d7c4e40e-5ded-4961-b222-6e205d7f8fa8",
       "rows": [
        [
         "0",
         "white and gray mask filter PLAS252",
         "3201"
        ],
        [
         "1",
         "strawberry container PLAS241",
         "3201"
        ],
        [
         "2",
         "strapping tape blue PLAS244",
         "3201"
        ],
        [
         "3",
         "nylon PLAS190",
         "3201"
        ],
        [
         "4",
         "myofibrillar protein BIOL015",
         "3201"
        ],
        [
         "5",
         "myofibrillar protein BIOL013",
         "3201"
        ],
        [
         "6",
         "keratin BIOL010",
         "3201"
        ],
        [
         "7",
         "green plastic mulch PLAS240",
         "3201"
        ],
        [
         "8",
         "drip irrigation tubing PLAS248",
         "3201"
        ],
        [
         "9",
         "dentin BIOL008",
         "3201"
        ],
        [
         "10",
         "collagen BIOL016",
         "3201"
        ],
        [
         "11",
         "clear plastic hollow sphere PLAS256",
         "3201"
        ],
        [
         "12",
         "chitin BIOL022",
         "3201"
        ],
        [
         "13",
         "chitin BIOL012",
         "3201"
        ],
        [
         "14",
         "chitin BIOL004",
         "3201"
        ],
        [
         "15",
         "charcoal BIOL002",
         "3201"
        ],
        [
         "16",
         "cellulose PLAS257",
         "3201"
        ],
        [
         "17",
         "cellulose BIOL021",
         "3201"
        ],
        [
         "18",
         "cellulose BIOL005",
         "3201"
        ],
        [
         "19",
         "calcium carbonate BIOL014",
         "3201"
        ],
        [
         "20",
         "calcium carbonate BIOL003",
         "3201"
        ],
        [
         "21",
         "bone BIOL025",
         "3201"
        ],
        [
         "22",
         "bone BIOL009",
         "3201"
        ],
        [
         "23",
         "bone BIOL007",
         "3201"
        ],
        [
         "24",
         "bone BIOL001",
         "3201"
        ],
        [
         "25",
         "blue fragment PLAS253",
         "3201"
        ],
        [
         "26",
         "beachcast white foam sheet PLAS251",
         "3201"
        ],
        [
         "27",
         "UHMW PLAS032",
         "3201"
        ],
        [
         "28",
         "SBS PLAS113",
         "3201"
        ],
        [
         "29",
         "PVDF PLAS214",
         "3201"
        ],
        [
         "30",
         "PVC PLAS151",
         "3201"
        ],
        [
         "31",
         "PVA PLAS052",
         "3201"
        ],
        [
         "32",
         "PTFE PLAS201",
         "3201"
        ],
        [
         "33",
         "PSA PLAS176",
         "3201"
        ],
        [
         "34",
         "PS PLAS187",
         "3201"
        ],
        [
         "35",
         "PS PLAS160",
         "3201"
        ],
        [
         "36",
         "PS PLAS102",
         "3201"
        ],
        [
         "37",
         "PPS PLAS213",
         "3201"
        ],
        [
         "38",
         "PPO PLAS199",
         "3201"
        ],
        [
         "39",
         "PPE PLAS051",
         "3201"
        ],
        [
         "40",
         "PP PLAS223",
         "3201"
        ],
        [
         "41",
         "PP PLAS175",
         "3201"
        ],
        [
         "42",
         "PP PLAS072",
         "3201"
        ],
        [
         "43",
         "PP PLAS055",
         "3201"
        ],
        [
         "44",
         "POM PLAS232",
         "3201"
        ],
        [
         "45",
         "PMMA PLAS195",
         "3201"
        ],
        [
         "46",
         "PLA PLAS171",
         "3201"
        ],
        [
         "47",
         "PI PLAS197",
         "3201"
        ],
        [
         "48",
         "PFA PLAS216",
         "3201"
        ],
        [
         "49",
         "PEX PLAS084",
         "3201"
        ]
       ],
       "shape": {
        "columns": 2,
        "rows": 339
       }
      },
      "text/html": [
       "<div>\n",
       "<style scoped>\n",
       "    .dataframe tbody tr th:only-of-type {\n",
       "        vertical-align: middle;\n",
       "    }\n",
       "\n",
       "    .dataframe tbody tr th {\n",
       "        vertical-align: top;\n",
       "    }\n",
       "\n",
       "    .dataframe thead th {\n",
       "        text-align: right;\n",
       "    }\n",
       "</style>\n",
       "<table border=\"1\" class=\"dataframe\">\n",
       "  <thead>\n",
       "    <tr style=\"text-align: right;\">\n",
       "      <th></th>\n",
       "      <th>ID</th>\n",
       "      <th>count</th>\n",
       "    </tr>\n",
       "  </thead>\n",
       "  <tbody>\n",
       "    <tr>\n",
       "      <th>0</th>\n",
       "      <td>white and gray mask filter PLAS252</td>\n",
       "      <td>3201</td>\n",
       "    </tr>\n",
       "    <tr>\n",
       "      <th>1</th>\n",
       "      <td>strawberry container PLAS241</td>\n",
       "      <td>3201</td>\n",
       "    </tr>\n",
       "    <tr>\n",
       "      <th>2</th>\n",
       "      <td>strapping tape blue PLAS244</td>\n",
       "      <td>3201</td>\n",
       "    </tr>\n",
       "    <tr>\n",
       "      <th>3</th>\n",
       "      <td>nylon PLAS190</td>\n",
       "      <td>3201</td>\n",
       "    </tr>\n",
       "    <tr>\n",
       "      <th>4</th>\n",
       "      <td>myofibrillar protein BIOL015</td>\n",
       "      <td>3201</td>\n",
       "    </tr>\n",
       "    <tr>\n",
       "      <th>...</th>\n",
       "      <td>...</td>\n",
       "      <td>...</td>\n",
       "    </tr>\n",
       "    <tr>\n",
       "      <th>334</th>\n",
       "      <td>Polypropylene 18. Purple Foam</td>\n",
       "      <td>727</td>\n",
       "    </tr>\n",
       "    <tr>\n",
       "      <th>335</th>\n",
       "      <td>Polypropylene 15. Green Fiber</td>\n",
       "      <td>727</td>\n",
       "    </tr>\n",
       "    <tr>\n",
       "      <th>336</th>\n",
       "      <td>Acrylic 2. Pink Fiber Bundle (Polyacrylonitrile)</td>\n",
       "      <td>717</td>\n",
       "    </tr>\n",
       "    <tr>\n",
       "      <th>337</th>\n",
       "      <td>Dyed Cellulose 5. Red Fiber</td>\n",
       "      <td>710</td>\n",
       "    </tr>\n",
       "    <tr>\n",
       "      <th>338</th>\n",
       "      <td>Cellulose Acetate 2. White Fragment</td>\n",
       "      <td>710</td>\n",
       "    </tr>\n",
       "  </tbody>\n",
       "</table>\n",
       "<p>339 rows × 2 columns</p>\n",
       "</div>"
      ],
      "text/plain": [
       "                                                   ID  count\n",
       "0                  white and gray mask filter PLAS252   3201\n",
       "1                        strawberry container PLAS241   3201\n",
       "2                         strapping tape blue PLAS244   3201\n",
       "3                                       nylon PLAS190   3201\n",
       "4                        myofibrillar protein BIOL015   3201\n",
       "..                                                ...    ...\n",
       "334                     Polypropylene 18. Purple Foam    727\n",
       "335                     Polypropylene 15. Green Fiber    727\n",
       "336  Acrylic 2. Pink Fiber Bundle (Polyacrylonitrile)    717\n",
       "337                       Dyed Cellulose 5. Red Fiber    710\n",
       "338               Cellulose Acetate 2. White Fragment    710\n",
       "\n",
       "[339 rows x 2 columns]"
      ]
     },
     "metadata": {},
     "output_type": "display_data"
    },
    {
     "data": {
      "image/png": "[encoded data removed]",
      "text/plain": [
       "<Figure size 1200x600 with 1 Axes>"
      ]
     },
     "metadata": {},
     "output_type": "display_data"
    }
   ],
   "source": [
    "# Let's create some practical examples based on the tables we found\n",
    "\n",
    "# Example 1: Find specific records in the database\n",
    "def find_records(table_name, search_column, search_term):\n",
    "    query = f\"SELECT * FROM {table_name} WHERE {search_column} LIKE '%{search_term}%' LIMIT 10\"\n",
    "    result = pd.read_sql_query(query, conn)\n",
    "    return result\n",
    "\n",
    "# Example 2: Count records by category\n",
    "def count_by_category(table_name, category_column):\n",
    "    query = f\"SELECT {category_column}, COUNT(*) as count FROM {table_name} GROUP BY {category_column} ORDER BY count DESC\"\n",
    "    result = pd.read_sql_query(query, conn)\n",
    "    return result\n",
    "\n",
    "# Let's run these on the actual tables we have\n",
    "if tables:\n",
    "    # Get the first table\n",
    "    first_table = tables[0][0]\n",
    "    columns = [col[1] for col in cursor.execute(f\"PRAGMA table_info({first_table})\").fetchall()]\n",
    "    \n",
    "    # Try to find a text column for searching\n",
    "    text_columns = []\n",
    "    for col in columns:\n",
    "        try:\n",
    "            # Check if this column appears to be text\n",
    "            query = f\"SELECT TYPEOF({col}) FROM {first_table} LIMIT 1\"\n",
    "            result = cursor.execute(query).fetchone()\n",
    "            if result and result[0] == 'text':\n",
    "                text_columns.append(col)\n",
    "        except:\n",
    "            continue\n",
    "    \n",
    "    if text_columns:\n",
    "        search_col = text_columns[0]  # Use the first text column found\n",
    "        print(f\"\\nSearching for records in {first_table}\")\n",
    "        print(f\"SQL: SELECT * FROM {first_table} WHERE {search_col} LIKE '%a%' LIMIT 10\")\n",
    "        result = find_records(first_table, search_col, 'a')  # Search for any record containing 'a'\n",
    "        display(result)\n",
    "        \n",
    "        # Try grouping if we have enough records\n",
    "        try:\n",
    "            print(f\"\\nCounting records by category in {first_table}\")\n",
    "            print(f\"SQL: SELECT {search_col}, COUNT(*) as count FROM {first_table} GROUP BY {search_col} ORDER BY count DESC\")\n",
    "            result = count_by_category(first_table, search_col)\n",
    "            display(result)\n",
    "            \n",
    "            # Create a bar chart for the category counts\n",
    "            plt.figure(figsize=(12, 6))\n",
    "            \n",
    "            # Limit to top 10 categories if there are many\n",
    "            if len(result) > 10:\n",
    "                result = result.head(10)\n",
    "                plt.title(f\"Top 10 {search_col} Categories in {first_table}\")\n",
    "            else:\n",
    "                plt.title(f\"{search_col} Categories in {first_table}\")\n",
    "                \n",
    "            plt.bar(result[search_col], result['count'])\n",
    "            plt.xlabel(search_col)\n",
    "            plt.ylabel('Count')\n",
    "            plt.xticks(rotation=45, ha='right')\n",
    "            plt.tight_layout()\n",
    "            plt.show()\n",
    "        except Exception as e:\n",
    "            print(f\"Couldn't group by category: {e}\")"
   ]
  },
  {
   "cell_type": "markdown",
   "id": "44da461d",
   "metadata": {},
   "source": [
    "## 8. Conclusion\n",
    "\n",
    "In this tutorial, we've learned how to:\n",
    "\n",
    "1. Connect to an SQLite database\n",
    "2. Explore the tables and their structure\n",
    "3. View data in the tables\n",
    "4. Create visualizations of the data\n",
    "5. Write basic SQL queries\n",
    "6. Apply SQL knowledge to our specific microplastics database\n",
    "\n",
    "You can now use these skills to further explore the database and extract meaningful information from it.\n",
    "\n",
    "### Additional Resources for Learning SQL\n",
    "\n",
    "- [SQLite Documentation](https://www.sqlite.org/docs.html)\n",
    "- [W3Schools SQL Tutorial](https://www.w3schools.com/sql/)\n",
    "- [SQLite with Python Documentation](https://docs.python.org/3/library/sqlite3.html)\n",
    "- [Pandas SQL Query Reference](https://pandas.pydata.org/pandas-docs/stable/reference/api/pandas.read_sql_query.html)"
   ]
  },
  {
   "cell_type": "markdown",
   "id": "7a954ed9",
   "metadata": {},
   "source": [
    "## 9. Creating a Reference Peaks Table\n",
    "\n",
    "Now let's create a new table called `reference_peaks` that will store the 12 highest peaks for each microplastic ID. This will be useful for comparing spectra and identifying unknown samples based on their characteristic peaks."
   ]
  },
  {
   "cell_type": "code",
   "execution_count": 29,
   "id": "5875447a",
   "metadata": {},
   "outputs": [
    {
     "name": "stdout",
     "output_type": "stream",
     "text": [
      "Successfully created reference_peaks table\n"
     ]
    }
   ],
   "source": [
    "# Connect to the database again if needed\n",
    "db_path = os.path.join('app', 'database', 'microplastics_reference.db')\n",
    "conn = sq.connect(db_path)\n",
    "cursor = conn.cursor()\n",
    "\n",
    "# First, check if the reference_peaks table already exists and drop it if it does\n",
    "cursor.execute(\"DROP TABLE IF EXISTS reference_peaks\")\n",
    "\n",
    "# Create a new table to store the peaks\n",
    "cursor.execute(\"\"\"\n",
    "CREATE TABLE reference_peaks (\n",
    "    id INTEGER PRIMARY KEY AUTOINCREMENT,\n",
    "    microplastic_id INTEGER,\n",
    "    peak_rank INTEGER,           -- 1 to 12, with 1 being the highest intensity\n",
    "    wavenumber REAL,             -- Raman shift value of the peak\n",
    "    intensity REAL,              -- Intensity value of the peak\n",
    "    FOREIGN KEY (microplastic_id) REFERENCES microplastics(id)\n",
    ")\n",
    "\"\"\")\n",
    "\n",
    "print(\"Successfully created reference_peaks table\")\n"
   ]
  },
  {
   "cell_type": "code",
   "execution_count": 30,
   "id": "e8a2069d",
   "metadata": {},
   "outputs": [
    {
     "name": "stdout",
     "output_type": "stream",
     "text": [
      "Found potential microplastics table: microplastics\n"
     ]
    }
   ],
   "source": [
    "from scipy.signal import find_peaks\n",
    "import numpy as np\n",
    "import pandas as pd\n",
    "\n",
    "# Function to find the top N peaks in a spectrum\n",
    "def find_top_peaks(raman_shift, intensity, n_peaks=20, height_threshold=0.25):\n",
    "    \"\"\"\n",
    "    Find the top N peaks in a spectrum using scipy.signal.find_peaks.\n",
    "    \n",
    "    Args:\n",
    "        raman_shift: Array of Raman shift values (wavenumbers)\n",
    "        intensity: Array of intensity values\n",
    "        n_peaks: Number of top peaks to return (default: 20)\n",
    "        height_threshold: Minimum height threshold for peak detection (default: 0.25)\n",
    "    \n",
    "    Returns:\n",
    "        DataFrame containing the top N peaks with columns: raman_shift, intensity\n",
    "        Sorted by intensity in descending order\n",
    "    \"\"\"\n",
    "    # Convert to numpy arrays for scipy processing\n",
    "    raman_array = np.array(raman_shift)\n",
    "    intensity_array = np.array(intensity)\n",
    "    \n",
    "    # Use scipy.signal.find_peaks to detect peaks\n",
    "    # This is more robust than manual local maxima detection\n",
    "    peak_indices, _ = find_peaks(intensity_array, height=height_threshold)\n",
    "    \n",
    "    # Extract peak positions and intensities\n",
    "    peak_wavenumbers = raman_array[peak_indices]\n",
    "    peak_intensities = intensity_array[peak_indices]\n",
    "    \n",
    "    # Create a DataFrame for easier manipulation\n",
    "    peaks_df = pd.DataFrame({\n",
    "        'raman_shift': peak_wavenumbers,\n",
    "        'intensity': peak_intensities\n",
    "    })\n",
    "    \n",
    "    # Sort by intensity in descending order and take top N peaks\n",
    "    top_peaks = peaks_df.sort_values('intensity', ascending=False).head(n_peaks)\n",
    "    \n",
    "    return top_peaks\n",
    "\n",
    "height_threshold = 0.25  # Set a threshold for peak height\n",
    "peaks, _ = find_peaks(intensities, height=height_threshold)\n",
    "peak_wavelengths = [wavelengths[i] for i in peaks]\n",
    "peak_intensities = [intensities[i] for i in peaks]\n",
    "# Find the table that contains microplastics spectra\n",
    "microplastics_table = None\n",
    "for table in tables:\n",
    "    # Look for a table that might contain microplastic spectra\n",
    "    if 'microplastics' in table[0].lower():\n",
    "        microplastics_table = table[0]\n",
    "        break\n",
    "\n",
    "if microplastics_table is None:\n",
    "    # If no specific table was found, use the first table\n",
    "    if tables:\n",
    "        microplastics_table = tables[0][0]\n",
    "        print(f\"No specific microplastics table found, using first table: {microplastics_table}\")\n",
    "    else:\n",
    "        print(\"No tables found in the database.\")\n",
    "else:\n",
    "    print(f\"Found potential microplastics table: {microplastics_table}\")\n"
   ]
  },
  {
   "cell_type": "code",
   "execution_count": 31,
   "id": "eefe88c2",
   "metadata": {},
   "outputs": [
    {
     "name": "stdout",
     "output_type": "stream",
     "text": [
      "Found relevant columns: ID (ID), WaveNumber (Raman shift), Intensity (Intensity)\n",
      "Found 339 unique microplastic IDs\n",
      "Successfully added 2597 peaks to reference_peaks table\n",
      "\n",
      "Preview of reference_peaks table:\n",
      "Successfully added 2597 peaks to reference_peaks table\n",
      "\n",
      "Preview of reference_peaks table:\n"
     ]
    },
    {
     "data": {
      "application/vnd.microsoft.datawrangler.viewer.v0+json": {
       "columns": [
        {
         "name": "index",
         "rawType": "int64",
         "type": "integer"
        },
        {
         "name": "id",
         "rawType": "int64",
         "type": "integer"
        },
        {
         "name": "microplastic_id",
         "rawType": "object",
         "type": "string"
        },
        {
         "name": "peak_rank",
         "rawType": "int64",
         "type": "integer"
        },
        {
         "name": "wavenumber",
         "rawType": "float64",
         "type": "float"
        },
        {
         "name": "intensity",
         "rawType": "float64",
         "type": "float"
        }
       ],
       "ref": "4b61ec73-bb21-4d04-b0d0-0c43aed03289",
       "rows": [
        [
         "0",
         "1",
         "ABS PLAS193",
         "1",
         "998.0",
         "1.0"
        ],
        [
         "1",
         "2",
         "ABS PLAS193",
         "2",
         "2902.0",
         "0.858586597298905"
        ],
        [
         "2",
         "3",
         "ABS PLAS193",
         "3",
         "3054.0",
         "0.836264287310719"
        ],
        [
         "3",
         "4",
         "ABS PLAS193",
         "4",
         "2859.0",
         "0.497860219358591"
        ],
        [
         "4",
         "5",
         "ABS PLAS193",
         "5",
         "2867.0",
         "0.497160516550153"
        ],
        [
         "5",
         "6",
         "ABS PLAS193",
         "6",
         "2234.0",
         "0.483970985120333"
        ],
        [
         "6",
         "7",
         "ABS PLAS193",
         "7",
         "1600.0",
         "0.404905151641735"
        ],
        [
         "7",
         "8",
         "ABS PLAS193",
         "8",
         "1196.0",
         "0.401864096299497"
        ],
        [
         "8",
         "9",
         "ABS PLAS193",
         "9",
         "1028.0",
         "0.384372515443611"
        ],
        [
         "9",
         "10",
         "ABS PLAS193",
         "10",
         "1191.0",
         "0.348961930602561"
        ],
        [
         "10",
         "11",
         "ABS PLAS193",
         "11",
         "1664.0",
         "0.336800398755042"
        ],
        [
         "11",
         "12",
         "ABS PLAS193",
         "12",
         "2999.0",
         "0.311355275116506"
        ],
        [
         "12",
         "13",
         "beachcast white foam sheet PLAS251",
         "1",
         "1003.0",
         "1.0"
        ],
        [
         "13",
         "14",
         "beachcast white foam sheet PLAS251",
         "2",
         "3050.0",
         "0.809003765978692"
        ],
        [
         "14",
         "15",
         "beachcast white foam sheet PLAS251",
         "3",
         "1597.0",
         "0.373064233909944"
        ],
        [
         "15",
         "16",
         "beachcast white foam sheet PLAS251",
         "4",
         "1033.0",
         "0.331008010489925"
        ],
        [
         "16",
         "17",
         "beachcast white foam sheet PLAS251",
         "5",
         "2901.0",
         "0.291481582613305"
        ],
        [
         "17",
         "18",
         "beachcast white foam sheet PLAS251",
         "6",
         "1201.0",
         "0.277830888554631"
        ],
        [
         "18",
         "19",
         "blue fragment PLAS253",
         "1",
         "2880.0",
         "1.0"
        ],
        [
         "19",
         "20",
         "blue fragment PLAS253",
         "2",
         "1525.0",
         "0.901141493151561"
        ]
       ],
       "shape": {
        "columns": 5,
        "rows": 20
       }
      },
      "text/html": [
       "<div>\n",
       "<style scoped>\n",
       "    .dataframe tbody tr th:only-of-type {\n",
       "        vertical-align: middle;\n",
       "    }\n",
       "\n",
       "    .dataframe tbody tr th {\n",
       "        vertical-align: top;\n",
       "    }\n",
       "\n",
       "    .dataframe thead th {\n",
       "        text-align: right;\n",
       "    }\n",
       "</style>\n",
       "<table border=\"1\" class=\"dataframe\">\n",
       "  <thead>\n",
       "    <tr style=\"text-align: right;\">\n",
       "      <th></th>\n",
       "      <th>id</th>\n",
       "      <th>microplastic_id</th>\n",
       "      <th>peak_rank</th>\n",
       "      <th>wavenumber</th>\n",
       "      <th>intensity</th>\n",
       "    </tr>\n",
       "  </thead>\n",
       "  <tbody>\n",
       "    <tr>\n",
       "      <th>0</th>\n",
       "      <td>1</td>\n",
       "      <td>ABS PLAS193</td>\n",
       "      <td>1</td>\n",
       "      <td>998.00</td>\n",
       "      <td>1.00</td>\n",
       "    </tr>\n",
       "    <tr>\n",
       "      <th>1</th>\n",
       "      <td>2</td>\n",
       "      <td>ABS PLAS193</td>\n",
       "      <td>2</td>\n",
       "      <td>2,902.00</td>\n",
       "      <td>0.86</td>\n",
       "    </tr>\n",
       "    <tr>\n",
       "      <th>2</th>\n",
       "      <td>3</td>\n",
       "      <td>ABS PLAS193</td>\n",
       "      <td>3</td>\n",
       "      <td>3,054.00</td>\n",
       "      <td>0.84</td>\n",
       "    </tr>\n",
       "    <tr>\n",
       "      <th>3</th>\n",
       "      <td>4</td>\n",
       "      <td>ABS PLAS193</td>\n",
       "      <td>4</td>\n",
       "      <td>2,859.00</td>\n",
       "      <td>0.50</td>\n",
       "    </tr>\n",
       "    <tr>\n",
       "      <th>4</th>\n",
       "      <td>5</td>\n",
       "      <td>ABS PLAS193</td>\n",
       "      <td>5</td>\n",
       "      <td>2,867.00</td>\n",
       "      <td>0.50</td>\n",
       "    </tr>\n",
       "    <tr>\n",
       "      <th>...</th>\n",
       "      <td>...</td>\n",
       "      <td>...</td>\n",
       "      <td>...</td>\n",
       "      <td>...</td>\n",
       "      <td>...</td>\n",
       "    </tr>\n",
       "    <tr>\n",
       "      <th>15</th>\n",
       "      <td>16</td>\n",
       "      <td>beachcast white foam sheet PLAS251</td>\n",
       "      <td>4</td>\n",
       "      <td>1,033.00</td>\n",
       "      <td>0.33</td>\n",
       "    </tr>\n",
       "    <tr>\n",
       "      <th>16</th>\n",
       "      <td>17</td>\n",
       "      <td>beachcast white foam sheet PLAS251</td>\n",
       "      <td>5</td>\n",
       "      <td>2,901.00</td>\n",
       "      <td>0.29</td>\n",
       "    </tr>\n",
       "    <tr>\n",
       "      <th>17</th>\n",
       "      <td>18</td>\n",
       "      <td>beachcast white foam sheet PLAS251</td>\n",
       "      <td>6</td>\n",
       "      <td>1,201.00</td>\n",
       "      <td>0.28</td>\n",
       "    </tr>\n",
       "    <tr>\n",
       "      <th>18</th>\n",
       "      <td>19</td>\n",
       "      <td>blue fragment PLAS253</td>\n",
       "      <td>1</td>\n",
       "      <td>2,880.00</td>\n",
       "      <td>1.00</td>\n",
       "    </tr>\n",
       "    <tr>\n",
       "      <th>19</th>\n",
       "      <td>20</td>\n",
       "      <td>blue fragment PLAS253</td>\n",
       "      <td>2</td>\n",
       "      <td>1,525.00</td>\n",
       "      <td>0.90</td>\n",
       "    </tr>\n",
       "  </tbody>\n",
       "</table>\n",
       "<p>20 rows × 5 columns</p>\n",
       "</div>"
      ],
      "text/plain": [
       "    id                     microplastic_id  peak_rank  wavenumber  intensity\n",
       "0    1                         ABS PLAS193          1      998.00       1.00\n",
       "1    2                         ABS PLAS193          2    2,902.00       0.86\n",
       "2    3                         ABS PLAS193          3    3,054.00       0.84\n",
       "3    4                         ABS PLAS193          4    2,859.00       0.50\n",
       "4    5                         ABS PLAS193          5    2,867.00       0.50\n",
       "..  ..                                 ...        ...         ...        ...\n",
       "15  16  beachcast white foam sheet PLAS251          4    1,033.00       0.33\n",
       "16  17  beachcast white foam sheet PLAS251          5    2,901.00       0.29\n",
       "17  18  beachcast white foam sheet PLAS251          6    1,201.00       0.28\n",
       "18  19               blue fragment PLAS253          1    2,880.00       1.00\n",
       "19  20               blue fragment PLAS253          2    1,525.00       0.90\n",
       "\n",
       "[20 rows x 5 columns]"
      ]
     },
     "metadata": {},
     "output_type": "display_data"
    }
   ],
   "source": [
    "\n",
    "if microplastics_table:\n",
    "    # Check if this table has the necessary columns for spectra\n",
    "    table_info = get_table_info(microplastics_table)\n",
    "    columns = table_info['name'].tolist()\n",
    "    \n",
    "    # Check if the table has a raman_shift column and an intensity column\n",
    "    raman_col = next((col for col in columns if 'raman' in col.lower() or 'shift' in col.lower() or 'wave' in col.lower()), None)\n",
    "    intensity_col = next((col for col in columns if 'intensity' in col.lower()), None)\n",
    "    id_col = next((col for col in columns if col.lower() == 'id'), 'id')\n",
    "    \n",
    "    if raman_col and intensity_col:\n",
    "        print(f\"Found relevant columns: {id_col} (ID), {raman_col} (Raman shift), {intensity_col} (Intensity)\")\n",
    "        \n",
    "        # Get unique IDs from the microplastics table\n",
    "        query = f\"SELECT DISTINCT {id_col} FROM {microplastics_table}\"\n",
    "        unique_ids = pd.read_sql_query(query, conn)[id_col].tolist()\n",
    "        \n",
    "        print(f\"Found {len(unique_ids)} unique microplastic IDs\")\n",
    "        \n",
    "        # Process each microplastic ID\n",
    "        peaks_added = 0\n",
    "        for mp_id in unique_ids:\n",
    "            try:\n",
    "                # Get the spectrum for this ID - Use proper quotes for string values\n",
    "                # Check if the ID is numeric or string\n",
    "                if isinstance(mp_id, (int, float)):\n",
    "                    query = f\"SELECT {raman_col}, {intensity_col} FROM {microplastics_table} WHERE {id_col} = {mp_id}\"\n",
    "                else:\n",
    "                    # For string IDs, use quotes\n",
    "                    query = f\"SELECT {raman_col}, {intensity_col} FROM {microplastics_table} WHERE {id_col} = '{mp_id}'\"\n",
    "                \n",
    "                spectrum = pd.read_sql_query(query, conn)\n",
    "                \n",
    "                if not spectrum.empty:\n",
    "                    # Find the top 12 peaks\n",
    "                    top_peaks = find_top_peaks(spectrum[raman_col], spectrum[intensity_col], n_peaks=12)\n",
    "                    \n",
    "                    # Insert each peak into the reference_peaks table\n",
    "                    for rank, (idx, peak) in enumerate(top_peaks.iterrows(), 1):\n",
    "                        cursor.execute(\"\"\"\n",
    "                        INSERT INTO reference_peaks (microplastic_id, peak_rank, wavenumber, intensity)\n",
    "                        VALUES (?, ?, ?, ?)\n",
    "                        \"\"\", (mp_id, rank, peak['raman_shift'], peak['intensity']))\n",
    "                        peaks_added += 1\n",
    "            except Exception as e:\n",
    "                print(f\"Error processing ID {mp_id}: {e}\")\n",
    "                continue\n",
    "        # Commit the changes\n",
    "        conn.commit()\n",
    "        print(f\"Successfully added {peaks_added} peaks to reference_peaks table\")\n",
    "        \n",
    "        # Preview the new table\n",
    "        print(\"\\nPreview of reference_peaks table:\")\n",
    "        reference_peaks_preview = pd.read_sql_query(\"SELECT * FROM reference_peaks LIMIT 20\", conn)\n",
    "        display(reference_peaks_preview)\n",
    "        \n",
    "    else:\n",
    "        print(f\"Could not find necessary columns in {microplastics_table}\")\n",
    "        print(f\"Need columns for Raman shift and Intensity. Found: {columns}\")"
   ]
  },
  {
   "cell_type": "markdown",
   "id": "aab78e96",
   "metadata": {},
   "source": [
    "### Visualizing the Peak Data\n",
    "\n",
    "Let's visualize the peaks we've identified for a few example microplastics to verify that our peak detection is working correctly."
   ]
  },
  {
   "cell_type": "code",
   "execution_count": 32,
   "id": "0bccea5b",
   "metadata": {},
   "outputs": [
    {
     "data": {
      "image/png": "[encoded data removed]",
      "text/plain": [
       "<Figure size 1500x600 with 1 Axes>"
      ]
     },
     "metadata": {},
     "output_type": "display_data"
    },
    {
     "name": "stdout",
     "output_type": "stream",
     "text": [
      "\n",
      "Top 12 peaks for Microplastic ID ABS PLAS193:\n"
     ]
    },
    {
     "data": {
      "application/vnd.microsoft.datawrangler.viewer.v0+json": {
       "columns": [
        {
         "name": "index",
         "rawType": "int64",
         "type": "integer"
        },
        {
         "name": "peak_rank",
         "rawType": "int64",
         "type": "integer"
        },
        {
         "name": "wavenumber",
         "rawType": "float64",
         "type": "float"
        },
        {
         "name": "intensity",
         "rawType": "float64",
         "type": "float"
        }
       ],
       "ref": "922a0299-e9f9-451e-b301-34577b8aa508",
       "rows": [
        [
         "0",
         "1",
         "998.0",
         "1.0"
        ],
        [
         "1",
         "2",
         "2902.0",
         "0.858586597298905"
        ],
        [
         "2",
         "3",
         "3054.0",
         "0.836264287310719"
        ],
        [
         "3",
         "4",
         "2859.0",
         "0.497860219358591"
        ],
        [
         "4",
         "5",
         "2867.0",
         "0.497160516550153"
        ],
        [
         "5",
         "6",
         "2234.0",
         "0.483970985120333"
        ],
        [
         "6",
         "7",
         "1600.0",
         "0.404905151641735"
        ],
        [
         "7",
         "8",
         "1196.0",
         "0.401864096299497"
        ],
        [
         "8",
         "9",
         "1028.0",
         "0.384372515443611"
        ],
        [
         "9",
         "10",
         "1191.0",
         "0.348961930602561"
        ],
        [
         "10",
         "11",
         "1664.0",
         "0.336800398755042"
        ],
        [
         "11",
         "12",
         "2999.0",
         "0.311355275116506"
        ]
       ],
       "shape": {
        "columns": 3,
        "rows": 12
       }
      },
      "text/html": [
       "<div>\n",
       "<style scoped>\n",
       "    .dataframe tbody tr th:only-of-type {\n",
       "        vertical-align: middle;\n",
       "    }\n",
       "\n",
       "    .dataframe tbody tr th {\n",
       "        vertical-align: top;\n",
       "    }\n",
       "\n",
       "    .dataframe thead th {\n",
       "        text-align: right;\n",
       "    }\n",
       "</style>\n",
       "<table border=\"1\" class=\"dataframe\">\n",
       "  <thead>\n",
       "    <tr style=\"text-align: right;\">\n",
       "      <th></th>\n",
       "      <th>peak_rank</th>\n",
       "      <th>wavenumber</th>\n",
       "      <th>intensity</th>\n",
       "    </tr>\n",
       "  </thead>\n",
       "  <tbody>\n",
       "    <tr>\n",
       "      <th>0</th>\n",
       "      <td>1</td>\n",
       "      <td>998.00</td>\n",
       "      <td>1.00</td>\n",
       "    </tr>\n",
       "    <tr>\n",
       "      <th>1</th>\n",
       "      <td>2</td>\n",
       "      <td>2,902.00</td>\n",
       "      <td>0.86</td>\n",
       "    </tr>\n",
       "    <tr>\n",
       "      <th>2</th>\n",
       "      <td>3</td>\n",
       "      <td>3,054.00</td>\n",
       "      <td>0.84</td>\n",
       "    </tr>\n",
       "    <tr>\n",
       "      <th>3</th>\n",
       "      <td>4</td>\n",
       "      <td>2,859.00</td>\n",
       "      <td>0.50</td>\n",
       "    </tr>\n",
       "    <tr>\n",
       "      <th>4</th>\n",
       "      <td>5</td>\n",
       "      <td>2,867.00</td>\n",
       "      <td>0.50</td>\n",
       "    </tr>\n",
       "    <tr>\n",
       "      <th>...</th>\n",
       "      <td>...</td>\n",
       "      <td>...</td>\n",
       "      <td>...</td>\n",
       "    </tr>\n",
       "    <tr>\n",
       "      <th>7</th>\n",
       "      <td>8</td>\n",
       "      <td>1,196.00</td>\n",
       "      <td>0.40</td>\n",
       "    </tr>\n",
       "    <tr>\n",
       "      <th>8</th>\n",
       "      <td>9</td>\n",
       "      <td>1,028.00</td>\n",
       "      <td>0.38</td>\n",
       "    </tr>\n",
       "    <tr>\n",
       "      <th>9</th>\n",
       "      <td>10</td>\n",
       "      <td>1,191.00</td>\n",
       "      <td>0.35</td>\n",
       "    </tr>\n",
       "    <tr>\n",
       "      <th>10</th>\n",
       "      <td>11</td>\n",
       "      <td>1,664.00</td>\n",
       "      <td>0.34</td>\n",
       "    </tr>\n",
       "    <tr>\n",
       "      <th>11</th>\n",
       "      <td>12</td>\n",
       "      <td>2,999.00</td>\n",
       "      <td>0.31</td>\n",
       "    </tr>\n",
       "  </tbody>\n",
       "</table>\n",
       "<p>12 rows × 3 columns</p>\n",
       "</div>"
      ],
      "text/plain": [
       "    peak_rank  wavenumber  intensity\n",
       "0           1      998.00       1.00\n",
       "1           2    2,902.00       0.86\n",
       "2           3    3,054.00       0.84\n",
       "3           4    2,859.00       0.50\n",
       "4           5    2,867.00       0.50\n",
       "..        ...         ...        ...\n",
       "7           8    1,196.00       0.40\n",
       "8           9    1,028.00       0.38\n",
       "9          10    1,191.00       0.35\n",
       "10         11    1,664.00       0.34\n",
       "11         12    2,999.00       0.31\n",
       "\n",
       "[12 rows x 3 columns]"
      ]
     },
     "metadata": {},
     "output_type": "display_data"
    },
    {
     "data": {
      "image/png": "[encoded data removed]",
      "text/plain": [
       "<Figure size 1500x600 with 1 Axes>"
      ]
     },
     "metadata": {},
     "output_type": "display_data"
    },
    {
     "name": "stdout",
     "output_type": "stream",
     "text": [
      "\n",
      "Top 12 peaks for Microplastic ID Acrylic 1. Green Yarn:\n"
     ]
    },
    {
     "data": {
      "application/vnd.microsoft.datawrangler.viewer.v0+json": {
       "columns": [
        {
         "name": "index",
         "rawType": "int64",
         "type": "integer"
        },
        {
         "name": "peak_rank",
         "rawType": "int64",
         "type": "integer"
        },
        {
         "name": "wavenumber",
         "rawType": "float64",
         "type": "float"
        },
        {
         "name": "intensity",
         "rawType": "float64",
         "type": "float"
        }
       ],
       "ref": "f0fc2c14-3a55-4a24-b700-12acf68f8350",
       "rows": [
        [
         "0",
         "1",
         "569.012",
         "1.0"
        ],
        [
         "1",
         "2",
         "1652.0",
         "0.6871020904351313"
        ],
        [
         "2",
         "3",
         "1321.88",
         "0.6633089783436936"
        ],
        [
         "3",
         "4",
         "1086.35",
         "0.5947776719470623"
        ],
        [
         "4",
         "5",
         "1455.02",
         "0.585895202526569"
        ],
        [
         "5",
         "6",
         "1119.54",
         "0.5094777671947063"
        ],
        [
         "6",
         "7",
         "1109.34",
         "0.5091143222378183"
        ],
        [
         "7",
         "8",
         "1336.57",
         "0.49218906657309003"
        ],
        [
         "8",
         "9",
         "1348.78",
         "0.4705484259073591"
        ],
        [
         "9",
         "10",
         "802.669",
         "0.42820082213755767"
        ],
        [
         "10",
         "11",
         "608.149",
         "0.38776443753759776"
        ],
        [
         "11",
         "12",
         "1435.86",
         "0.38501666833767795"
        ]
       ],
       "shape": {
        "columns": 3,
        "rows": 12
       }
      },
      "text/html": [
       "<div>\n",
       "<style scoped>\n",
       "    .dataframe tbody tr th:only-of-type {\n",
       "        vertical-align: middle;\n",
       "    }\n",
       "\n",
       "    .dataframe tbody tr th {\n",
       "        vertical-align: top;\n",
       "    }\n",
       "\n",
       "    .dataframe thead th {\n",
       "        text-align: right;\n",
       "    }\n",
       "</style>\n",
       "<table border=\"1\" class=\"dataframe\">\n",
       "  <thead>\n",
       "    <tr style=\"text-align: right;\">\n",
       "      <th></th>\n",
       "      <th>peak_rank</th>\n",
       "      <th>wavenumber</th>\n",
       "      <th>intensity</th>\n",
       "    </tr>\n",
       "  </thead>\n",
       "  <tbody>\n",
       "    <tr>\n",
       "      <th>0</th>\n",
       "      <td>1</td>\n",
       "      <td>569.01</td>\n",
       "      <td>1.00</td>\n",
       "    </tr>\n",
       "    <tr>\n",
       "      <th>1</th>\n",
       "      <td>2</td>\n",
       "      <td>1,652.00</td>\n",
       "      <td>0.69</td>\n",
       "    </tr>\n",
       "    <tr>\n",
       "      <th>2</th>\n",
       "      <td>3</td>\n",
       "      <td>1,321.88</td>\n",
       "      <td>0.66</td>\n",
       "    </tr>\n",
       "    <tr>\n",
       "      <th>3</th>\n",
       "      <td>4</td>\n",
       "      <td>1,086.35</td>\n",
       "      <td>0.59</td>\n",
       "    </tr>\n",
       "    <tr>\n",
       "      <th>4</th>\n",
       "      <td>5</td>\n",
       "      <td>1,455.02</td>\n",
       "      <td>0.59</td>\n",
       "    </tr>\n",
       "    <tr>\n",
       "      <th>...</th>\n",
       "      <td>...</td>\n",
       "      <td>...</td>\n",
       "      <td>...</td>\n",
       "    </tr>\n",
       "    <tr>\n",
       "      <th>7</th>\n",
       "      <td>8</td>\n",
       "      <td>1,336.57</td>\n",
       "      <td>0.49</td>\n",
       "    </tr>\n",
       "    <tr>\n",
       "      <th>8</th>\n",
       "      <td>9</td>\n",
       "      <td>1,348.78</td>\n",
       "      <td>0.47</td>\n",
       "    </tr>\n",
       "    <tr>\n",
       "      <th>9</th>\n",
       "      <td>10</td>\n",
       "      <td>802.67</td>\n",
       "      <td>0.43</td>\n",
       "    </tr>\n",
       "    <tr>\n",
       "      <th>10</th>\n",
       "      <td>11</td>\n",
       "      <td>608.15</td>\n",
       "      <td>0.39</td>\n",
       "    </tr>\n",
       "    <tr>\n",
       "      <th>11</th>\n",
       "      <td>12</td>\n",
       "      <td>1,435.86</td>\n",
       "      <td>0.39</td>\n",
       "    </tr>\n",
       "  </tbody>\n",
       "</table>\n",
       "<p>12 rows × 3 columns</p>\n",
       "</div>"
      ],
      "text/plain": [
       "    peak_rank  wavenumber  intensity\n",
       "0           1      569.01       1.00\n",
       "1           2    1,652.00       0.69\n",
       "2           3    1,321.88       0.66\n",
       "3           4    1,086.35       0.59\n",
       "4           5    1,455.02       0.59\n",
       "..        ...         ...        ...\n",
       "7           8    1,336.57       0.49\n",
       "8           9    1,348.78       0.47\n",
       "9          10      802.67       0.43\n",
       "10         11      608.15       0.39\n",
       "11         12    1,435.86       0.39\n",
       "\n",
       "[12 rows x 3 columns]"
      ]
     },
     "metadata": {},
     "output_type": "display_data"
    },
    {
     "data": {
      "image/png": "[encoded data removed]",
      "text/plain": [
       "<Figure size 1500x600 with 1 Axes>"
      ]
     },
     "metadata": {},
     "output_type": "display_data"
    },
    {
     "name": "stdout",
     "output_type": "stream",
     "text": [
      "\n",
      "Top 12 peaks for Microplastic ID Acrylic 1. Red Fiber (Polyacrylonitrile):\n"
     ]
    },
    {
     "data": {
      "application/vnd.microsoft.datawrangler.viewer.v0+json": {
       "columns": [
        {
         "name": "index",
         "rawType": "int64",
         "type": "integer"
        },
        {
         "name": "peak_rank",
         "rawType": "int64",
         "type": "integer"
        },
        {
         "name": "wavenumber",
         "rawType": "float64",
         "type": "float"
        },
        {
         "name": "intensity",
         "rawType": "float64",
         "type": "float"
        }
       ],
       "ref": "b05844b0-1f48-4f2b-8557-607112264a5a",
       "rows": [
        [
         "0",
         "1",
         "1294.68",
         "1.0"
        ],
        [
         "1",
         "2",
         "1114.28",
         "0.9327643107744871"
        ],
        [
         "2",
         "3",
         "257.944",
         "0.8952767862063054"
        ],
        [
         "3",
         "4",
         "1521.36",
         "0.7987001059263659"
        ],
        [
         "4",
         "5",
         "786.32",
         "0.7333165973757203"
        ],
        [
         "5",
         "6",
         "1466.79",
         "0.6877743829636116"
        ],
        [
         "6",
         "7",
         "1452.47",
         "0.681219806393544"
        ],
        [
         "7",
         "8",
         "1096.42",
         "0.6420637884901513"
        ],
        [
         "8",
         "9",
         "1353.49",
         "0.6082898096386871"
        ],
        [
         "9",
         "10",
         "117.497",
         "0.601217847061921"
        ],
        [
         "10",
         "11",
         "1341.29",
         "0.5289368789071828"
        ],
        [
         "11",
         "12",
         "1326.62",
         "0.5214363125378856"
        ]
       ],
       "shape": {
        "columns": 3,
        "rows": 12
       }
      },
      "text/html": [
       "<div>\n",
       "<style scoped>\n",
       "    .dataframe tbody tr th:only-of-type {\n",
       "        vertical-align: middle;\n",
       "    }\n",
       "\n",
       "    .dataframe tbody tr th {\n",
       "        vertical-align: top;\n",
       "    }\n",
       "\n",
       "    .dataframe thead th {\n",
       "        text-align: right;\n",
       "    }\n",
       "</style>\n",
       "<table border=\"1\" class=\"dataframe\">\n",
       "  <thead>\n",
       "    <tr style=\"text-align: right;\">\n",
       "      <th></th>\n",
       "      <th>peak_rank</th>\n",
       "      <th>wavenumber</th>\n",
       "      <th>intensity</th>\n",
       "    </tr>\n",
       "  </thead>\n",
       "  <tbody>\n",
       "    <tr>\n",
       "      <th>0</th>\n",
       "      <td>1</td>\n",
       "      <td>1,294.68</td>\n",
       "      <td>1.00</td>\n",
       "    </tr>\n",
       "    <tr>\n",
       "      <th>1</th>\n",
       "      <td>2</td>\n",
       "      <td>1,114.28</td>\n",
       "      <td>0.93</td>\n",
       "    </tr>\n",
       "    <tr>\n",
       "      <th>2</th>\n",
       "      <td>3</td>\n",
       "      <td>257.94</td>\n",
       "      <td>0.90</td>\n",
       "    </tr>\n",
       "    <tr>\n",
       "      <th>3</th>\n",
       "      <td>4</td>\n",
       "      <td>1,521.36</td>\n",
       "      <td>0.80</td>\n",
       "    </tr>\n",
       "    <tr>\n",
       "      <th>4</th>\n",
       "      <td>5</td>\n",
       "      <td>786.32</td>\n",
       "      <td>0.73</td>\n",
       "    </tr>\n",
       "    <tr>\n",
       "      <th>...</th>\n",
       "      <td>...</td>\n",
       "      <td>...</td>\n",
       "      <td>...</td>\n",
       "    </tr>\n",
       "    <tr>\n",
       "      <th>7</th>\n",
       "      <td>8</td>\n",
       "      <td>1,096.42</td>\n",
       "      <td>0.64</td>\n",
       "    </tr>\n",
       "    <tr>\n",
       "      <th>8</th>\n",
       "      <td>9</td>\n",
       "      <td>1,353.49</td>\n",
       "      <td>0.61</td>\n",
       "    </tr>\n",
       "    <tr>\n",
       "      <th>9</th>\n",
       "      <td>10</td>\n",
       "      <td>117.50</td>\n",
       "      <td>0.60</td>\n",
       "    </tr>\n",
       "    <tr>\n",
       "      <th>10</th>\n",
       "      <td>11</td>\n",
       "      <td>1,341.29</td>\n",
       "      <td>0.53</td>\n",
       "    </tr>\n",
       "    <tr>\n",
       "      <th>11</th>\n",
       "      <td>12</td>\n",
       "      <td>1,326.62</td>\n",
       "      <td>0.52</td>\n",
       "    </tr>\n",
       "  </tbody>\n",
       "</table>\n",
       "<p>12 rows × 3 columns</p>\n",
       "</div>"
      ],
      "text/plain": [
       "    peak_rank  wavenumber  intensity\n",
       "0           1    1,294.68       1.00\n",
       "1           2    1,114.28       0.93\n",
       "2           3      257.94       0.90\n",
       "3           4    1,521.36       0.80\n",
       "4           5      786.32       0.73\n",
       "..        ...         ...        ...\n",
       "7           8    1,096.42       0.64\n",
       "8           9    1,353.49       0.61\n",
       "9          10      117.50       0.60\n",
       "10         11    1,341.29       0.53\n",
       "11         12    1,326.62       0.52\n",
       "\n",
       "[12 rows x 3 columns]"
      ]
     },
     "metadata": {},
     "output_type": "display_data"
    }
   ],
   "source": [
    "# Visualize the peak data for a sample of microplastics\n",
    "if 'reference_peaks' in [table[0] for table in cursor.execute(\"SELECT name FROM sqlite_master WHERE type='table';\")\n",
    "                              .fetchall()]:\n",
    "    # Get a list of unique microplastic IDs that have peaks\n",
    "    query = \"SELECT DISTINCT microplastic_id FROM reference_peaks ORDER BY microplastic_id LIMIT 3\"\n",
    "    sample_ids = pd.read_sql_query(query, conn)['microplastic_id'].tolist()\n",
    "    \n",
    "    for mp_id in sample_ids:\n",
    "        try:\n",
    "            # Get the spectrum for this ID\n",
    "            if isinstance(mp_id, (int, float)):\n",
    "                query = f\"SELECT * FROM {microplastics_table} WHERE {id_col} = {mp_id}\"\n",
    "            else:\n",
    "                query = f\"SELECT * FROM {microplastics_table} WHERE {id_col} = '{mp_id}'\"\n",
    "            spectrum = pd.read_sql_query(query, conn)\n",
    "            \n",
    "            # Get the peaks for this ID\n",
    "            if isinstance(mp_id, (int, float)):\n",
    "                query = f\"SELECT * FROM reference_peaks WHERE microplastic_id = {mp_id} ORDER BY peak_rank\"\n",
    "            else:\n",
    "                query = f\"SELECT * FROM reference_peaks WHERE microplastic_id = '{mp_id}' ORDER BY peak_rank\"\n",
    "            peaks = pd.read_sql_query(query, conn)\n",
    "            \n",
    "            # Plot the spectrum and the identified peaks\n",
    "            plt.figure(figsize=(15, 6))\n",
    "            plt.plot(spectrum[raman_col], spectrum[intensity_col], 'b-', label='Spectrum')\n",
    "            plt.scatter(peaks['wavenumber'], peaks['intensity'], color='red', s=50, label='Top Peaks')\n",
    "            \n",
    "            # Add peak labels\n",
    "            for i, (idx, peak) in enumerate(peaks.iterrows()):\n",
    "                plt.annotate(f\"{i+1}\", \n",
    "                            (peak['wavenumber'], peak['intensity']),\n",
    "                            xytext=(5, 5),\n",
    "                            textcoords='offset points',\n",
    "                            fontsize=9)\n",
    "                \n",
    "            plt.title(f\"Microplastic ID {mp_id} with Top 12 Peaks\")\n",
    "            plt.xlabel('Raman Shift (cm⁻¹)')\n",
    "            plt.ylabel('Intensity')\n",
    "            plt.legend()\n",
    "            plt.tight_layout()\n",
    "            plt.show()\n",
    "            \n",
    "            # Display the peak data in a table\n",
    "            print(f\"\\nTop 12 peaks for Microplastic ID {mp_id}:\")\n",
    "            display(peaks[['peak_rank', 'wavenumber', 'intensity']])\n",
    "        except Exception as e:\n",
    "            print(f\"Error visualizing peaks for ID {mp_id}: {e}\")\n",
    "else:\n",
    "    print(\"The reference_peaks table couldn't be found. Make sure the table was created successfully.\")"
   ]
  },
  {
   "cell_type": "markdown",
   "id": "2bcbe1cd",
   "metadata": {},
   "source": [
    "### Querying the Reference Peaks Table\n",
    "\n",
    "Now that we have created the `reference_peaks` table, we can use SQL queries to extract useful information:"
   ]
  },
  {
   "cell_type": "code",
   "execution_count": 33,
   "id": "b7faff69",
   "metadata": {},
   "outputs": [
    {
     "name": "stdout",
     "output_type": "stream",
     "text": [
      "Number of peaks per microplastic:\n"
     ]
    },
    {
     "data": {
      "application/vnd.microsoft.datawrangler.viewer.v0+json": {
       "columns": [
        {
         "name": "index",
         "rawType": "int64",
         "type": "integer"
        },
        {
         "name": "microplastic_id",
         "rawType": "object",
         "type": "string"
        },
        {
         "name": "peak_count",
         "rawType": "int64",
         "type": "integer"
        }
       ],
       "ref": "30781d85-2c65-4a1e-9702-ebcad85de88c",
       "rows": [
        [
         "0",
         "myofibrillar protein BIOL015",
         "12"
        ],
        [
         "1",
         "myofibrillar protein BIOL013",
         "12"
        ],
        [
         "2",
         "keratin BIOL010",
         "12"
        ],
        [
         "3",
         "chitin BIOL022",
         "12"
        ],
        [
         "4",
         "chitin BIOL012",
         "12"
        ],
        [
         "5",
         "charcoal BIOL002",
         "12"
        ],
        [
         "6",
         "cellulose PLAS257",
         "12"
        ],
        [
         "7",
         "cellulose BIOL021",
         "12"
        ],
        [
         "8",
         "cellulose BIOL005",
         "12"
        ],
        [
         "9",
         "bone BIOL009",
         "12"
        ]
       ],
       "shape": {
        "columns": 2,
        "rows": 10
       }
      },
      "text/html": [
       "<div>\n",
       "<style scoped>\n",
       "    .dataframe tbody tr th:only-of-type {\n",
       "        vertical-align: middle;\n",
       "    }\n",
       "\n",
       "    .dataframe tbody tr th {\n",
       "        vertical-align: top;\n",
       "    }\n",
       "\n",
       "    .dataframe thead th {\n",
       "        text-align: right;\n",
       "    }\n",
       "</style>\n",
       "<table border=\"1\" class=\"dataframe\">\n",
       "  <thead>\n",
       "    <tr style=\"text-align: right;\">\n",
       "      <th></th>\n",
       "      <th>microplastic_id</th>\n",
       "      <th>peak_count</th>\n",
       "    </tr>\n",
       "  </thead>\n",
       "  <tbody>\n",
       "    <tr>\n",
       "      <th>0</th>\n",
       "      <td>myofibrillar protein BIOL015</td>\n",
       "      <td>12</td>\n",
       "    </tr>\n",
       "    <tr>\n",
       "      <th>1</th>\n",
       "      <td>myofibrillar protein BIOL013</td>\n",
       "      <td>12</td>\n",
       "    </tr>\n",
       "    <tr>\n",
       "      <th>2</th>\n",
       "      <td>keratin BIOL010</td>\n",
       "      <td>12</td>\n",
       "    </tr>\n",
       "    <tr>\n",
       "      <th>3</th>\n",
       "      <td>chitin BIOL022</td>\n",
       "      <td>12</td>\n",
       "    </tr>\n",
       "    <tr>\n",
       "      <th>4</th>\n",
       "      <td>chitin BIOL012</td>\n",
       "      <td>12</td>\n",
       "    </tr>\n",
       "    <tr>\n",
       "      <th>5</th>\n",
       "      <td>charcoal BIOL002</td>\n",
       "      <td>12</td>\n",
       "    </tr>\n",
       "    <tr>\n",
       "      <th>6</th>\n",
       "      <td>cellulose PLAS257</td>\n",
       "      <td>12</td>\n",
       "    </tr>\n",
       "    <tr>\n",
       "      <th>7</th>\n",
       "      <td>cellulose BIOL021</td>\n",
       "      <td>12</td>\n",
       "    </tr>\n",
       "    <tr>\n",
       "      <th>8</th>\n",
       "      <td>cellulose BIOL005</td>\n",
       "      <td>12</td>\n",
       "    </tr>\n",
       "    <tr>\n",
       "      <th>9</th>\n",
       "      <td>bone BIOL009</td>\n",
       "      <td>12</td>\n",
       "    </tr>\n",
       "  </tbody>\n",
       "</table>\n",
       "</div>"
      ],
      "text/plain": [
       "                microplastic_id  peak_count\n",
       "0  myofibrillar protein BIOL015          12\n",
       "1  myofibrillar protein BIOL013          12\n",
       "2               keratin BIOL010          12\n",
       "3                chitin BIOL022          12\n",
       "4                chitin BIOL012          12\n",
       "5              charcoal BIOL002          12\n",
       "6             cellulose PLAS257          12\n",
       "7             cellulose BIOL021          12\n",
       "8             cellulose BIOL005          12\n",
       "9                  bone BIOL009          12"
      ]
     },
     "metadata": {},
     "output_type": "display_data"
    },
    {
     "name": "stdout",
     "output_type": "stream",
     "text": [
      "\n",
      "Most common peak wavenumber ranges:\n"
     ]
    },
    {
     "data": {
      "application/vnd.microsoft.datawrangler.viewer.v0+json": {
       "columns": [
        {
         "name": "index",
         "rawType": "int64",
         "type": "integer"
        },
        {
         "name": "wavenumber_range",
         "rawType": "float64",
         "type": "float"
        },
        {
         "name": "frequency",
         "rawType": "int64",
         "type": "integer"
        }
       ],
       "ref": "c27f3c53-470c-4674-b584-e03d5dfadf7c",
       "rows": [
        [
         "0",
         "2880.0",
         "104"
        ],
        [
         "1",
         "2920.0",
         "73"
        ],
        [
         "2",
         "2850.0",
         "64"
        ],
        [
         "3",
         "1440.0",
         "61"
        ],
        [
         "4",
         "1290.0",
         "60"
        ],
        [
         "5",
         "1340.0",
         "57"
        ],
        [
         "6",
         "1610.0",
         "52"
        ],
        [
         "7",
         "1450.0",
         "52"
        ],
        [
         "8",
         "1460.0",
         "51"
        ],
        [
         "9",
         "2900.0",
         "49"
        ]
       ],
       "shape": {
        "columns": 2,
        "rows": 10
       }
      },
      "text/html": [
       "<div>\n",
       "<style scoped>\n",
       "    .dataframe tbody tr th:only-of-type {\n",
       "        vertical-align: middle;\n",
       "    }\n",
       "\n",
       "    .dataframe tbody tr th {\n",
       "        vertical-align: top;\n",
       "    }\n",
       "\n",
       "    .dataframe thead th {\n",
       "        text-align: right;\n",
       "    }\n",
       "</style>\n",
       "<table border=\"1\" class=\"dataframe\">\n",
       "  <thead>\n",
       "    <tr style=\"text-align: right;\">\n",
       "      <th></th>\n",
       "      <th>wavenumber_range</th>\n",
       "      <th>frequency</th>\n",
       "    </tr>\n",
       "  </thead>\n",
       "  <tbody>\n",
       "    <tr>\n",
       "      <th>0</th>\n",
       "      <td>2,880.00</td>\n",
       "      <td>104</td>\n",
       "    </tr>\n",
       "    <tr>\n",
       "      <th>1</th>\n",
       "      <td>2,920.00</td>\n",
       "      <td>73</td>\n",
       "    </tr>\n",
       "    <tr>\n",
       "      <th>2</th>\n",
       "      <td>2,850.00</td>\n",
       "      <td>64</td>\n",
       "    </tr>\n",
       "    <tr>\n",
       "      <th>3</th>\n",
       "      <td>1,440.00</td>\n",
       "      <td>61</td>\n",
       "    </tr>\n",
       "    <tr>\n",
       "      <th>4</th>\n",
       "      <td>1,290.00</td>\n",
       "      <td>60</td>\n",
       "    </tr>\n",
       "    <tr>\n",
       "      <th>5</th>\n",
       "      <td>1,340.00</td>\n",
       "      <td>57</td>\n",
       "    </tr>\n",
       "    <tr>\n",
       "      <th>6</th>\n",
       "      <td>1,610.00</td>\n",
       "      <td>52</td>\n",
       "    </tr>\n",
       "    <tr>\n",
       "      <th>7</th>\n",
       "      <td>1,450.00</td>\n",
       "      <td>52</td>\n",
       "    </tr>\n",
       "    <tr>\n",
       "      <th>8</th>\n",
       "      <td>1,460.00</td>\n",
       "      <td>51</td>\n",
       "    </tr>\n",
       "    <tr>\n",
       "      <th>9</th>\n",
       "      <td>2,900.00</td>\n",
       "      <td>49</td>\n",
       "    </tr>\n",
       "  </tbody>\n",
       "</table>\n",
       "</div>"
      ],
      "text/plain": [
       "   wavenumber_range  frequency\n",
       "0          2,880.00        104\n",
       "1          2,920.00         73\n",
       "2          2,850.00         64\n",
       "3          1,440.00         61\n",
       "4          1,290.00         60\n",
       "5          1,340.00         57\n",
       "6          1,610.00         52\n",
       "7          1,450.00         52\n",
       "8          1,460.00         51\n",
       "9          2,900.00         49"
      ]
     },
     "metadata": {},
     "output_type": "display_data"
    },
    {
     "data": {
      "image/png": "[encoded data removed]",
      "text/plain": [
       "<Figure size 1200x600 with 1 Axes>"
      ]
     },
     "metadata": {},
     "output_type": "display_data"
    }
   ],
   "source": [
    "# Example queries for the reference_peaks table\n",
    "\n",
    "# 1. Get all peaks for a specific microplastic ID\n",
    "def get_peaks_for_id(microplastic_id):\n",
    "    # Handle string IDs properly with quotes\n",
    "    if isinstance(microplastic_id, (int, float)):\n",
    "        query = f\"\"\"\n",
    "        SELECT * FROM reference_peaks \n",
    "        WHERE microplastic_id = {microplastic_id}\n",
    "        ORDER BY peak_rank\n",
    "        \"\"\"\n",
    "    else:\n",
    "        query = f\"\"\"\n",
    "        SELECT * FROM reference_peaks \n",
    "        WHERE microplastic_id = '{microplastic_id}'\n",
    "        ORDER BY peak_rank\n",
    "        \"\"\"\n",
    "    return pd.read_sql_query(query, conn)\n",
    "\n",
    "# 2. Find microplastics with similar peak patterns\n",
    "def find_similar_microplastics(microplastic_id, tolerance=10):\n",
    "    # Get the peaks for the reference microplastic\n",
    "    reference_peaks = get_peaks_for_id(microplastic_id)\n",
    "    \n",
    "    similar_ids = set()\n",
    "    for _, peak in reference_peaks.iterrows():\n",
    "        # Look for other microplastics with peaks at similar wavenumbers\n",
    "        if isinstance(microplastic_id, (int, float)):\n",
    "            query = f\"\"\"\n",
    "            SELECT DISTINCT microplastic_id \n",
    "            FROM reference_peaks\n",
    "            WHERE microplastic_id != {microplastic_id}\n",
    "            AND wavenumber BETWEEN {peak['wavenumber'] - tolerance} AND {peak['wavenumber'] + tolerance}\n",
    "            \"\"\"\n",
    "        else:\n",
    "            query = f\"\"\"\n",
    "            SELECT DISTINCT microplastic_id \n",
    "            FROM reference_peaks\n",
    "            WHERE microplastic_id != '{microplastic_id}'\n",
    "            AND wavenumber BETWEEN {peak['wavenumber'] - tolerance} AND {peak['wavenumber'] + tolerance}\n",
    "            \"\"\"\n",
    "        matches = pd.read_sql_query(query, conn)['microplastic_id'].tolist()\n",
    "        similar_ids.update(matches)\n",
    "    \n",
    "    return sorted(list(similar_ids))\n",
    "\n",
    "# 3. Count how many peaks each microplastic has in the reference_peaks table\n",
    "query = \"\"\"\n",
    "SELECT microplastic_id, COUNT(*) as peak_count\n",
    "FROM reference_peaks\n",
    "GROUP BY microplastic_id\n",
    "ORDER BY peak_count DESC\n",
    "\"\"\"\n",
    "peak_counts = pd.read_sql_query(query, conn)\n",
    "print(\"Number of peaks per microplastic:\")\n",
    "display(peak_counts.head(10))\n",
    "\n",
    "# 4. Find the most common peak wavenumbers across all microplastics\n",
    "query = \"\"\"\n",
    "SELECT ROUND(wavenumber / 10) * 10 as wavenumber_range, \n",
    "       COUNT(*) as frequency\n",
    "FROM reference_peaks\n",
    "GROUP BY wavenumber_range\n",
    "ORDER BY frequency DESC\n",
    "\"\"\"\n",
    "common_peaks = pd.read_sql_query(query, conn)\n",
    "print(\"\\nMost common peak wavenumber ranges:\")\n",
    "display(common_peaks.head(10))\n",
    "\n",
    "# 5. Visualize the distribution of peak wavenumbers\n",
    "plt.figure(figsize=(12, 6))\n",
    "plt.bar(common_peaks['wavenumber_range'][:15], common_peaks['frequency'][:15])\n",
    "plt.title('Most Common Peak Wavenumber Ranges')\n",
    "plt.xlabel('Wavenumber Range (cm⁻¹)')\n",
    "plt.ylabel('Frequency')\n",
    "plt.tight_layout()\n",
    "plt.show()"
   ]
  },
  {
   "cell_type": "code",
   "execution_count": 34,
   "id": "25f61088",
   "metadata": {},
   "outputs": [
    {
     "name": "stdout",
     "output_type": "stream",
     "text": [
      "Database connection closed.\n"
     ]
    }
   ],
   "source": [
    "# Close the database connection\n",
    "conn.close()\n",
    "print(\"Database connection closed.\")"
   ]
  }
 ],
 "metadata": {
  "kernelspec": {
   "display_name": "raman1",
   "language": "python",
   "name": "python3"
  },
  "language_info": {
   "codemirror_mode": {
    "name": "ipython",
    "version": 3
   },
   "file_extension": ".py",
   "mimetype": "text/x-python",
   "name": "python",
   "nbconvert_exporter": "python",
   "pygments_lexer": "ipython3",
   "version": "3.9.21"
  }
 },
 "nbformat": 4,
 "nbformat_minor": 5
}
